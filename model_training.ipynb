{
 "cells": [
  {
   "cell_type": "code",
   "execution_count": 2,
   "metadata": {
    "executionInfo": {
     "elapsed": 3993,
     "status": "ok",
     "timestamp": 1700750274821,
     "user": {
      "displayName": "calvin poh",
      "userId": "01610010728414180948"
     },
     "user_tz": -480
    },
    "id": "xJv6cXsNDWmc"
   },
   "outputs": [],
   "source": [
    "# Importing dependencies\n",
    "import tensorflow as tf\n",
    "from tensorflow.keras.models import Sequential\n",
    "from tensorflow.keras.layers import Conv2D, MaxPooling2D, Flatten, Dense, Dropout, BatchNormalization\n",
    "from tensorflow.keras.preprocessing.image import ImageDataGenerator\n",
    "from tensorflow.keras.optimizers import Adam\n",
    "from keras.regularizers import l2"
   ]
  },
  {
   "cell_type": "code",
   "execution_count": 3,
   "metadata": {
    "executionInfo": {
     "elapsed": 2,
     "status": "ok",
     "timestamp": 1700750274821,
     "user": {
      "displayName": "calvin poh",
      "userId": "01610010728414180948"
     },
     "user_tz": -480
    },
    "id": "x5bYs_uODlvS"
   },
   "outputs": [],
   "source": [
    "# Defining Number of classes and image input size\n",
    "num_classes = 4\n",
    "image_height, image_width = (224,224)"
   ]
  },
  {
   "cell_type": "markdown",
   "metadata": {
    "id": "SPT5wSt2GJmd"
   },
   "source": [
    "## Creating our first set of model"
   ]
  },
  {
   "cell_type": "code",
   "execution_count": 3,
   "metadata": {
    "colab": {
     "base_uri": "https://localhost:8080/"
    },
    "executionInfo": {
     "elapsed": 24264,
     "status": "ok",
     "timestamp": 1700750299816,
     "user": {
      "displayName": "calvin poh",
      "userId": "01610010728414180948"
     },
     "user_tz": -480
    },
    "id": "B3TWIlWl1s26",
    "outputId": "fd719ae8-c18a-4dac-8796-5fa2bb532dde"
   },
   "outputs": [
    {
     "name": "stdout",
     "output_type": "stream",
     "text": [
      "Mounted at /content/drive\n"
     ]
    }
   ],
   "source": [
    "from google.colab import drive\n",
    "drive.mount(\"/content/drive\")"
   ]
  },
  {
   "cell_type": "markdown",
   "metadata": {
    "id": "-7mZINKUPERT"
   },
   "source": [
    "Generating Dataset"
   ]
  },
  {
   "cell_type": "code",
   "execution_count": 105,
   "metadata": {
    "colab": {
     "base_uri": "https://localhost:8080/"
    },
    "executionInfo": {
     "elapsed": 4461,
     "status": "ok",
     "timestamp": 1700567684992,
     "user": {
      "displayName": "calvin poh",
      "userId": "01610010728414180948"
     },
     "user_tz": -480
    },
    "id": "fK67fr2ODrB8",
    "outputId": "8dbbbdfc-1456-4ae5-d307-505526143189"
   },
   "outputs": [
    {
     "ename": "FileNotFoundError",
     "evalue": "[WinError 3] The system cannot find the path specified: '/content/drive/Othercomputers/New Desktop/NUS ISS/Sem 2/Machine Learning/09 Team Project/train_sorted'",
     "output_type": "error",
     "traceback": [
      "\u001b[1;31m---------------------------------------------------------------------------\u001b[0m",
      "\u001b[1;31mFileNotFoundError\u001b[0m                         Traceback (most recent call last)",
      "\u001b[1;32mc:\\Users\\calvi\\NUS ISS\\Sem 2\\Machine Learning\\09 Team Project\\model_training.ipynb Cell 6\u001b[0m line \u001b[0;36m2\n\u001b[0;32m     <a href='vscode-notebook-cell:/c%3A/Users/calvi/NUS%20ISS/Sem%202/Machine%20Learning/09%20Team%20Project/model_training.ipynb#X10sZmlsZQ%3D%3D?line=16'>17</a>\u001b[0m     validDataSet \u001b[39m=\u001b[39m datagen\u001b[39m.\u001b[39mflow_from_directory(\n\u001b[0;32m     <a href='vscode-notebook-cell:/c%3A/Users/calvi/NUS%20ISS/Sem%202/Machine%20Learning/09%20Team%20Project/model_training.ipynb#X10sZmlsZQ%3D%3D?line=17'>18</a>\u001b[0m         target_size\u001b[39m=\u001b[39m(image_height, image_width),\n\u001b[0;32m     <a href='vscode-notebook-cell:/c%3A/Users/calvi/NUS%20ISS/Sem%202/Machine%20Learning/09%20Team%20Project/model_training.ipynb#X10sZmlsZQ%3D%3D?line=18'>19</a>\u001b[0m         directory\u001b[39m=\u001b[39m\u001b[39mr\u001b[39m\u001b[39m\"\u001b[39m\u001b[39m/content/drive/Othercomputers/New Desktop/NUS ISS/Sem 2/Machine Learning/09 Team Project/\u001b[39m\u001b[39m\"\u001b[39m \u001b[39m+\u001b[39m filepath,\n\u001b[1;32m   (...)\u001b[0m\n\u001b[0;32m     <a href='vscode-notebook-cell:/c%3A/Users/calvi/NUS%20ISS/Sem%202/Machine%20Learning/09%20Team%20Project/model_training.ipynb#X10sZmlsZQ%3D%3D?line=22'>23</a>\u001b[0m         batch_size \u001b[39m=\u001b[39m \u001b[39m8\u001b[39m\n\u001b[0;32m     <a href='vscode-notebook-cell:/c%3A/Users/calvi/NUS%20ISS/Sem%202/Machine%20Learning/09%20Team%20Project/model_training.ipynb#X10sZmlsZQ%3D%3D?line=23'>24</a>\u001b[0m     )\n\u001b[0;32m     <a href='vscode-notebook-cell:/c%3A/Users/calvi/NUS%20ISS/Sem%202/Machine%20Learning/09%20Team%20Project/model_training.ipynb#X10sZmlsZQ%3D%3D?line=25'>26</a>\u001b[0m     \u001b[39mreturn\u001b[39;00m trainDataSet, validDataSet\n\u001b[1;32m---> <a href='vscode-notebook-cell:/c%3A/Users/calvi/NUS%20ISS/Sem%202/Machine%20Learning/09%20Team%20Project/model_training.ipynb#X10sZmlsZQ%3D%3D?line=27'>28</a>\u001b[0m trainDataSet,validDataSet \u001b[39m=\u001b[39m generateTrainValidSets(datagen, \u001b[39m\"\u001b[39;49m\u001b[39mtrain_sorted\u001b[39;49m\u001b[39m\"\u001b[39;49m)\n",
      "\u001b[1;32mc:\\Users\\calvi\\NUS ISS\\Sem 2\\Machine Learning\\09 Team Project\\model_training.ipynb Cell 6\u001b[0m line \u001b[0;36m8\n\u001b[0;32m      <a href='vscode-notebook-cell:/c%3A/Users/calvi/NUS%20ISS/Sem%202/Machine%20Learning/09%20Team%20Project/model_training.ipynb#X10sZmlsZQ%3D%3D?line=6'>7</a>\u001b[0m \u001b[39mdef\u001b[39;00m \u001b[39mgenerateTrainValidSets\u001b[39m(datagen, filepath):\n\u001b[1;32m----> <a href='vscode-notebook-cell:/c%3A/Users/calvi/NUS%20ISS/Sem%202/Machine%20Learning/09%20Team%20Project/model_training.ipynb#X10sZmlsZQ%3D%3D?line=7'>8</a>\u001b[0m     trainDataSet \u001b[39m=\u001b[39m datagen\u001b[39m.\u001b[39;49mflow_from_directory(\n\u001b[0;32m      <a href='vscode-notebook-cell:/c%3A/Users/calvi/NUS%20ISS/Sem%202/Machine%20Learning/09%20Team%20Project/model_training.ipynb#X10sZmlsZQ%3D%3D?line=8'>9</a>\u001b[0m         target_size\u001b[39m=\u001b[39;49m(image_height, image_width),\n\u001b[0;32m     <a href='vscode-notebook-cell:/c%3A/Users/calvi/NUS%20ISS/Sem%202/Machine%20Learning/09%20Team%20Project/model_training.ipynb#X10sZmlsZQ%3D%3D?line=9'>10</a>\u001b[0m         directory\u001b[39m=\u001b[39;49m\u001b[39mr\u001b[39;49m\u001b[39m\"\u001b[39;49m\u001b[39m/content/drive/Othercomputers/New Desktop/NUS ISS/Sem 2/Machine Learning/09 Team Project/\u001b[39;49m\u001b[39m\"\u001b[39;49m \u001b[39m+\u001b[39;49m filepath,\n\u001b[0;32m     <a href='vscode-notebook-cell:/c%3A/Users/calvi/NUS%20ISS/Sem%202/Machine%20Learning/09%20Team%20Project/model_training.ipynb#X10sZmlsZQ%3D%3D?line=10'>11</a>\u001b[0m         subset \u001b[39m=\u001b[39;49m \u001b[39m\"\u001b[39;49m\u001b[39mtraining\u001b[39;49m\u001b[39m\"\u001b[39;49m,\n\u001b[0;32m     <a href='vscode-notebook-cell:/c%3A/Users/calvi/NUS%20ISS/Sem%202/Machine%20Learning/09%20Team%20Project/model_training.ipynb#X10sZmlsZQ%3D%3D?line=11'>12</a>\u001b[0m         class_mode \u001b[39m=\u001b[39;49m \u001b[39m\"\u001b[39;49m\u001b[39mcategorical\u001b[39;49m\u001b[39m\"\u001b[39;49m,\n\u001b[0;32m     <a href='vscode-notebook-cell:/c%3A/Users/calvi/NUS%20ISS/Sem%202/Machine%20Learning/09%20Team%20Project/model_training.ipynb#X10sZmlsZQ%3D%3D?line=12'>13</a>\u001b[0m         shuffle \u001b[39m=\u001b[39;49m \u001b[39mTrue\u001b[39;49;00m,\n\u001b[0;32m     <a href='vscode-notebook-cell:/c%3A/Users/calvi/NUS%20ISS/Sem%202/Machine%20Learning/09%20Team%20Project/model_training.ipynb#X10sZmlsZQ%3D%3D?line=13'>14</a>\u001b[0m         batch_size \u001b[39m=\u001b[39;49m \u001b[39m8\u001b[39;49m\n\u001b[0;32m     <a href='vscode-notebook-cell:/c%3A/Users/calvi/NUS%20ISS/Sem%202/Machine%20Learning/09%20Team%20Project/model_training.ipynb#X10sZmlsZQ%3D%3D?line=14'>15</a>\u001b[0m     )\n\u001b[0;32m     <a href='vscode-notebook-cell:/c%3A/Users/calvi/NUS%20ISS/Sem%202/Machine%20Learning/09%20Team%20Project/model_training.ipynb#X10sZmlsZQ%3D%3D?line=16'>17</a>\u001b[0m     validDataSet \u001b[39m=\u001b[39m datagen\u001b[39m.\u001b[39mflow_from_directory(\n\u001b[0;32m     <a href='vscode-notebook-cell:/c%3A/Users/calvi/NUS%20ISS/Sem%202/Machine%20Learning/09%20Team%20Project/model_training.ipynb#X10sZmlsZQ%3D%3D?line=17'>18</a>\u001b[0m         target_size\u001b[39m=\u001b[39m(image_height, image_width),\n\u001b[0;32m     <a href='vscode-notebook-cell:/c%3A/Users/calvi/NUS%20ISS/Sem%202/Machine%20Learning/09%20Team%20Project/model_training.ipynb#X10sZmlsZQ%3D%3D?line=18'>19</a>\u001b[0m         directory\u001b[39m=\u001b[39m\u001b[39mr\u001b[39m\u001b[39m\"\u001b[39m\u001b[39m/content/drive/Othercomputers/New Desktop/NUS ISS/Sem 2/Machine Learning/09 Team Project/\u001b[39m\u001b[39m\"\u001b[39m \u001b[39m+\u001b[39m filepath,\n\u001b[1;32m   (...)\u001b[0m\n\u001b[0;32m     <a href='vscode-notebook-cell:/c%3A/Users/calvi/NUS%20ISS/Sem%202/Machine%20Learning/09%20Team%20Project/model_training.ipynb#X10sZmlsZQ%3D%3D?line=22'>23</a>\u001b[0m         batch_size \u001b[39m=\u001b[39m \u001b[39m8\u001b[39m\n\u001b[0;32m     <a href='vscode-notebook-cell:/c%3A/Users/calvi/NUS%20ISS/Sem%202/Machine%20Learning/09%20Team%20Project/model_training.ipynb#X10sZmlsZQ%3D%3D?line=23'>24</a>\u001b[0m     )\n\u001b[0;32m     <a href='vscode-notebook-cell:/c%3A/Users/calvi/NUS%20ISS/Sem%202/Machine%20Learning/09%20Team%20Project/model_training.ipynb#X10sZmlsZQ%3D%3D?line=25'>26</a>\u001b[0m     \u001b[39mreturn\u001b[39;00m trainDataSet, validDataSet\n",
      "File \u001b[1;32mc:\\Users\\calvi\\anaconda3\\envs\\tensorflowgpu\\lib\\site-packages\\keras\\preprocessing\\image.py:1650\u001b[0m, in \u001b[0;36mImageDataGenerator.flow_from_directory\u001b[1;34m(self, directory, target_size, color_mode, classes, class_mode, batch_size, shuffle, seed, save_to_dir, save_prefix, save_format, follow_links, subset, interpolation, keep_aspect_ratio)\u001b[0m\n\u001b[0;32m   1564\u001b[0m \u001b[39mdef\u001b[39;00m \u001b[39mflow_from_directory\u001b[39m(\n\u001b[0;32m   1565\u001b[0m     \u001b[39mself\u001b[39m,\n\u001b[0;32m   1566\u001b[0m     directory,\n\u001b[1;32m   (...)\u001b[0m\n\u001b[0;32m   1580\u001b[0m     keep_aspect_ratio\u001b[39m=\u001b[39m\u001b[39mFalse\u001b[39;00m,\n\u001b[0;32m   1581\u001b[0m ):\n\u001b[0;32m   1582\u001b[0m \u001b[39m    \u001b[39m\u001b[39m\"\"\"Takes the path to a directory & generates batches of augmented data.\u001b[39;00m\n\u001b[0;32m   1583\u001b[0m \n\u001b[0;32m   1584\u001b[0m \u001b[39m    Args:\u001b[39;00m\n\u001b[1;32m   (...)\u001b[0m\n\u001b[0;32m   1648\u001b[0m \u001b[39m            and `y` is a numpy array of corresponding labels.\u001b[39;00m\n\u001b[0;32m   1649\u001b[0m \u001b[39m    \"\"\"\u001b[39;00m\n\u001b[1;32m-> 1650\u001b[0m     \u001b[39mreturn\u001b[39;00m DirectoryIterator(\n\u001b[0;32m   1651\u001b[0m         directory,\n\u001b[0;32m   1652\u001b[0m         \u001b[39mself\u001b[39;49m,\n\u001b[0;32m   1653\u001b[0m         target_size\u001b[39m=\u001b[39;49mtarget_size,\n\u001b[0;32m   1654\u001b[0m         color_mode\u001b[39m=\u001b[39;49mcolor_mode,\n\u001b[0;32m   1655\u001b[0m         keep_aspect_ratio\u001b[39m=\u001b[39;49mkeep_aspect_ratio,\n\u001b[0;32m   1656\u001b[0m         classes\u001b[39m=\u001b[39;49mclasses,\n\u001b[0;32m   1657\u001b[0m         class_mode\u001b[39m=\u001b[39;49mclass_mode,\n\u001b[0;32m   1658\u001b[0m         data_format\u001b[39m=\u001b[39;49m\u001b[39mself\u001b[39;49m\u001b[39m.\u001b[39;49mdata_format,\n\u001b[0;32m   1659\u001b[0m         batch_size\u001b[39m=\u001b[39;49mbatch_size,\n\u001b[0;32m   1660\u001b[0m         shuffle\u001b[39m=\u001b[39;49mshuffle,\n\u001b[0;32m   1661\u001b[0m         seed\u001b[39m=\u001b[39;49mseed,\n\u001b[0;32m   1662\u001b[0m         save_to_dir\u001b[39m=\u001b[39;49msave_to_dir,\n\u001b[0;32m   1663\u001b[0m         save_prefix\u001b[39m=\u001b[39;49msave_prefix,\n\u001b[0;32m   1664\u001b[0m         save_format\u001b[39m=\u001b[39;49msave_format,\n\u001b[0;32m   1665\u001b[0m         follow_links\u001b[39m=\u001b[39;49mfollow_links,\n\u001b[0;32m   1666\u001b[0m         subset\u001b[39m=\u001b[39;49msubset,\n\u001b[0;32m   1667\u001b[0m         interpolation\u001b[39m=\u001b[39;49minterpolation,\n\u001b[0;32m   1668\u001b[0m         dtype\u001b[39m=\u001b[39;49m\u001b[39mself\u001b[39;49m\u001b[39m.\u001b[39;49mdtype,\n\u001b[0;32m   1669\u001b[0m     )\n",
      "File \u001b[1;32mc:\\Users\\calvi\\anaconda3\\envs\\tensorflowgpu\\lib\\site-packages\\keras\\preprocessing\\image.py:563\u001b[0m, in \u001b[0;36mDirectoryIterator.__init__\u001b[1;34m(self, directory, image_data_generator, target_size, color_mode, classes, class_mode, batch_size, shuffle, seed, data_format, save_to_dir, save_prefix, save_format, follow_links, subset, interpolation, keep_aspect_ratio, dtype)\u001b[0m\n\u001b[0;32m    561\u001b[0m \u001b[39mif\u001b[39;00m \u001b[39mnot\u001b[39;00m classes:\n\u001b[0;32m    562\u001b[0m     classes \u001b[39m=\u001b[39m []\n\u001b[1;32m--> 563\u001b[0m     \u001b[39mfor\u001b[39;00m subdir \u001b[39min\u001b[39;00m \u001b[39msorted\u001b[39m(os\u001b[39m.\u001b[39;49mlistdir(directory)):\n\u001b[0;32m    564\u001b[0m         \u001b[39mif\u001b[39;00m os\u001b[39m.\u001b[39mpath\u001b[39m.\u001b[39misdir(os\u001b[39m.\u001b[39mpath\u001b[39m.\u001b[39mjoin(directory, subdir)):\n\u001b[0;32m    565\u001b[0m             classes\u001b[39m.\u001b[39mappend(subdir)\n",
      "\u001b[1;31mFileNotFoundError\u001b[0m: [WinError 3] The system cannot find the path specified: '/content/drive/Othercomputers/New Desktop/NUS ISS/Sem 2/Machine Learning/09 Team Project/train_sorted'"
     ]
    }
   ],
   "source": [
    "# Inputing images using ImageDataGenerator without augmentation to get baseline\n",
    "datagen = ImageDataGenerator(\n",
    "    rescale = 1./255,\n",
    "    validation_split=0.2\n",
    ")\n",
    "\n",
    "def generateTrainValidSets(datagen, filepath):\n",
    "    trainDataSet = datagen.flow_from_directory(\n",
    "        target_size=(image_height, image_width),\n",
    "        directory=r\"/content/drive/Othercomputers/New Desktop/NUS ISS/Sem 2/Machine Learning/09 Team Project/\" + filepath,\n",
    "        subset = \"training\",\n",
    "        class_mode = \"categorical\",\n",
    "        shuffle = True,\n",
    "        batch_size = 8\n",
    "    )\n",
    "\n",
    "    validDataSet = datagen.flow_from_directory(\n",
    "        target_size=(image_height, image_width),\n",
    "        directory=r\"/content/drive/Othercomputers/New Desktop/NUS ISS/Sem 2/Machine Learning/09 Team Project/\" + filepath,\n",
    "        subset = \"validation\",\n",
    "        class_mode = \"categorical\",\n",
    "        shuffle = True,\n",
    "        batch_size = 8\n",
    "    )\n",
    "\n",
    "    return trainDataSet, validDataSet\n",
    "\n",
    "trainDataSet,validDataSet = generateTrainValidSets(datagen, \"train_sorted\")"
   ]
  },
  {
   "cell_type": "code",
   "execution_count": null,
   "metadata": {
    "id": "BvQOQL_burvJ"
   },
   "outputs": [],
   "source": [
    "firstmodel = Sequential()\n",
    "\n",
    "firstmodel.add(Conv2D(64, (2, 2), activation='relu', padding='same', input_shape=(image_height, image_width, 3)))\n",
    "firstmodel.add(Conv2D(32, (3, 3), activation='relu', padding='same'))\n",
    "firstmodel.add(Conv2D(32, (3, 3), activation='relu', padding='same'))\n",
    "\n",
    "# Flatten the nodes for the last layer\n",
    "firstmodel.add(Flatten())\n",
    "firstmodel.add(Dense(32, activation='relu'))\n",
    "firstmodel.add(Dense(num_classes, activation='softmax'))\n",
    "\n",
    "# Compile the model\n",
    "firstmodel.compile(optimizer=Adam(learning_rate=0.001),\n",
    "                  loss='categorical_crossentropy',\n",
    "                  metrics=['accuracy'])\n"
   ]
  },
  {
   "cell_type": "code",
   "execution_count": null,
   "metadata": {
    "id": "xXTQ5zEIux-n"
   },
   "outputs": [],
   "source": [
    "num_epochs = 30\n",
    "history = firstmodel.fit(\n",
    "    trainDataSet,\n",
    "    steps_per_epoch = trainDataSet.samples // trainDataSet.batch_size,\n",
    "    epochs = num_epochs,\n",
    "    validation_data = validDataSet,\n",
    "    validation_steps = validDataSet.samples // validDataSet.batch_size,\n",
    "    verbose = 1\n",
    ")"
   ]
  },
  {
   "cell_type": "markdown",
   "metadata": {
    "id": "xBCQTS6wIP1j"
   },
   "source": [
    "Saving the model and the history of the first model"
   ]
  },
  {
   "cell_type": "code",
   "execution_count": null,
   "metadata": {
    "id": "OXxiH1EqtE6T"
   },
   "outputs": [],
   "source": [
    "# Saving the first model\n",
    "# firstmodel.save('/content/drive/Othercomputers/New Desktop/NUS ISS/Sem 2/Machine Learning/09 Team Project/first_model.keras')"
   ]
  },
  {
   "cell_type": "code",
   "execution_count": null,
   "metadata": {
    "id": "31IblgGKGmp4"
   },
   "outputs": [],
   "source": [
    "import pickle"
   ]
  },
  {
   "cell_type": "code",
   "execution_count": null,
   "metadata": {
    "id": "C7gYSCIlw_2h"
   },
   "outputs": [],
   "source": [
    "with open('/content/drive/Othercomputers/New Desktop/NUS ISS/Sem 2/Machine Learning/09 Team Project/first_model_history.pkl', 'wb') as file_pi:\n",
    "    pickle.dump(history.history, file_pi)"
   ]
  },
  {
   "cell_type": "code",
   "execution_count": null,
   "metadata": {
    "id": "aL_SJQQvtp1k"
   },
   "outputs": [],
   "source": [
    "import matplotlib.pyplot as plt"
   ]
  },
  {
   "cell_type": "code",
   "execution_count": null,
   "metadata": {
    "colab": {
     "base_uri": "https://localhost:8080/",
     "height": 311
    },
    "executionInfo": {
     "elapsed": 862,
     "status": "ok",
     "timestamp": 1700574364020,
     "user": {
      "displayName": "calvin poh",
      "userId": "01610010728414180948"
     },
     "user_tz": -480
    },
    "id": "rPnQ3krTtt83",
    "outputId": "e5735438-03f0-4b23-8f6b-fce11f5cb88a"
   },
   "outputs": [
    {
     "data": {
      "image/png": "[encoded data removed]",
      "text/plain": [
       "<Figure size 400x300 with 1 Axes>"
      ]
     },
     "metadata": {},
     "output_type": "display_data"
    }
   ],
   "source": [
    "# Check out our train loss and test loss over epochs.\n",
    "train_loss = history.history['loss']\n",
    "test_loss = history.history['val_loss']\n",
    "\n",
    "# Set figure size.\n",
    "plt.figure(figsize=(4, 3))\n",
    "\n",
    "# Generate line plot of training, testing loss over epochs.\n",
    "plt.plot(train_loss, label='Training Loss')\n",
    "plt.plot(test_loss, label='Testing Loss')\n",
    "\n",
    "# Set title\n",
    "plt.xlabel('Epoch')\n",
    "plt.ylabel('Loss')\n",
    "plt.legend();"
   ]
  },
  {
   "cell_type": "code",
   "execution_count": 33,
   "metadata": {
    "colab": {
     "base_uri": "https://localhost:8080/"
    },
    "executionInfo": {
     "elapsed": 640,
     "status": "ok",
     "timestamp": 1700725076032,
     "user": {
      "displayName": "calvin poh",
      "userId": "01610010728414180948"
     },
     "user_tz": -480
    },
    "id": "sc9wKXafUdhR",
    "outputId": "a207e85f-435d-4871-bb94-76864e41bf32"
   },
   "outputs": [
    {
     "name": "stdout",
     "output_type": "stream",
     "text": [
      "Found 60 images belonging to 4 classes.\n"
     ]
    }
   ],
   "source": [
    "# Preparing the test set data generator\n",
    "test_datagen = ImageDataGenerator(rescale=1./255)\n",
    "\n",
    "test_generator = test_datagen.flow_from_directory(\n",
    "    \"test_sorted\",\n",
    "    target_size=(image_height, image_width),\n",
    "    batch_size=1,\n",
    "    class_mode='categorical',\n",
    "    shuffle=False\n",
    ")"
   ]
  },
  {
   "cell_type": "code",
   "execution_count": null,
   "metadata": {
    "id": "6BgZG2G3aUCk"
   },
   "outputs": [],
   "source": [
    "firstmodel = tf.keras.models.load_model('/content/drive/Othercomputers/New Desktop/NUS ISS/Sem 2/Machine Learning/09 Team Project/first_model.keras')"
   ]
  },
  {
   "cell_type": "code",
   "execution_count": null,
   "metadata": {
    "colab": {
     "base_uri": "https://localhost:8080/"
    },
    "executionInfo": {
     "elapsed": 4628,
     "status": "ok",
     "timestamp": 1700579311369,
     "user": {
      "displayName": "calvin poh",
      "userId": "01610010728414180948"
     },
     "user_tz": -480
    },
    "id": "uCTtyff-SRRk",
    "outputId": "02dad18d-724d-47ad-8b6f-2edcaceaa0e3"
   },
   "outputs": [
    {
     "name": "stdout",
     "output_type": "stream",
     "text": [
      "24/24 [==============================] - 2s 100ms/step - loss: 2.6448e-04 - accuracy: 1.0000\n",
      "5/5 [==============================] - 0s 70ms/step - loss: 0.7866 - accuracy: 0.8750\n",
      "60/60 [==============================] - 1s 13ms/step - loss: 1.9202 - accuracy: 0.8333\n"
     ]
    }
   ],
   "source": [
    "firstmodel_trainscore = firstmodel.evaluate(trainDataSet,steps=trainDataSet.samples // trainDataSet.batch_size)\n",
    "firstmodel_validationscore = firstmodel.evaluate(validDataSet,steps=validDataSet.samples // validDataSet.batch_size)\n",
    "firstmodel_testscore = firstmodel.evaluate(test_generator,steps=test_generator.samples // test_generator.batch_size)"
   ]
  },
  {
   "cell_type": "code",
   "execution_count": null,
   "metadata": {
    "colab": {
     "base_uri": "https://localhost:8080/"
    },
    "executionInfo": {
     "elapsed": 6,
     "status": "ok",
     "timestamp": 1700579324393,
     "user": {
      "displayName": "calvin poh",
      "userId": "01610010728414180948"
     },
     "user_tz": -480
    },
    "id": "P6vSdLaQTPtV",
    "outputId": "8a4a5e23-958c-4c12-cdb1-d7748cecc0ae"
   },
   "outputs": [
    {
     "name": "stdout",
     "output_type": "stream",
     "text": [
      "The base model accuracy score for the train:  1.0\n",
      "The base model accuracy score for the validation:  0.88\n",
      "======================================================\n",
      "The base model accuracy score for the validation:  0.83\n"
     ]
    }
   ],
   "source": [
    "print(\"The base model accuracy score for the train: \",firstmodel_trainscore[1])\n",
    "print(\"The base model accuracy score for the validation: \",round(firstmodel_validationscore[1],2))\n",
    "print(\"======================================================\")\n",
    "print(\"The base model accuracy score for the validation: \",round(firstmodel_testscore[1],2))\n"
   ]
  },
  {
   "cell_type": "markdown",
   "metadata": {
    "id": "uOcc-0P4UUbl"
   },
   "source": [
    "As observed from evaluating the accuracy score across the 3 datasets, we notice that the model is overfitted, having a **0.85** score for the test set while having **1.00** for the training set."
   ]
  },
  {
   "cell_type": "markdown",
   "metadata": {
    "id": "7AS6wRl5TRyr"
   },
   "source": [
    "# Improving model by including dropouts, maxpooling and regularisation"
   ]
  },
  {
   "cell_type": "code",
   "execution_count": 24,
   "metadata": {
    "executionInfo": {
     "elapsed": 3875,
     "status": "ok",
     "timestamp": 1700750373979,
     "user": {
      "displayName": "calvin poh",
      "userId": "01610010728414180948"
     },
     "user_tz": -480
    },
    "id": "ZMg5WFrYgJoq"
   },
   "outputs": [],
   "source": [
    "secondmodel = Sequential()\n",
    "\n",
    "secondmodel.add(Conv2D(64, (2, 2), activation='relu', padding='same', input_shape=(image_height, image_width, 3)))\n",
    "secondmodel.add(Dropout(0.25))\n",
    "secondmodel.add(Conv2D(32, (3, 3), activation='relu', padding='same'))\n",
    "secondmodel.add(Dropout(0.25))\n",
    "secondmodel.add(Conv2D(32, (3, 3), activation='relu', padding='same'))\n",
    "secondmodel.add(MaxPooling2D(pool_size=(2, 2), strides=2))\n",
    "secondmodel.add(Dropout(0.15))\n",
    "secondmodel.add(Flatten())\n",
    "secondmodel.add(Dense(32, kernel_regularizer=l2(0.01), bias_regularizer=l2(0.01), activation='relu'))\n",
    "secondmodel.add(Dropout(0.25))\n",
    "\n",
    "secondmodel.add(Dense(num_classes, activation='softmax'))\n",
    "\n",
    "# Compile the model\n",
    "secondmodel.compile(optimizer=Adam(learning_rate=0.001),\n",
    "                    loss='categorical_crossentropy',\n",
    "                    metrics=['accuracy'])"
   ]
  },
  {
   "cell_type": "code",
   "execution_count": null,
   "metadata": {
    "id": "y7Sji3s6GhKX"
   },
   "outputs": [],
   "source": [
    "num_epochs = 75\n",
    "history = secondmodel.fit(\n",
    "    trainDataSet,\n",
    "    steps_per_epoch = trainDataSet.samples // trainDataSet.batch_size,\n",
    "    epochs = num_epochs,\n",
    "    validation_data = validDataSet,\n",
    "    validation_steps = validDataSet.samples // validDataSet.batch_size,\n",
    "    verbose = 1\n",
    ")"
   ]
  },
  {
   "cell_type": "code",
   "execution_count": null,
   "metadata": {
    "id": "ClkDocHDsufm"
   },
   "outputs": [],
   "source": [
    "# Saving the second model\n",
    "# secondmodel.save('/content/drive/Othercomputers/New Desktop/NUS ISS/Sem 2/Machine Learning/09 Team Project/improvedmodel.keras')"
   ]
  },
  {
   "cell_type": "code",
   "execution_count": null,
   "metadata": {
    "id": "MNXSrRnF9bjw"
   },
   "outputs": [],
   "source": [
    "secondmodel = tf.keras.models.load_model('/content/drive/Othercomputers/New Desktop/NUS ISS/Sem 2/Machine Learning/09 Team Project/improvedmodel.keras')"
   ]
  },
  {
   "cell_type": "code",
   "execution_count": null,
   "metadata": {
    "colab": {
     "base_uri": "https://localhost:8080/"
    },
    "executionInfo": {
     "elapsed": 5108,
     "status": "ok",
     "timestamp": 1700578852522,
     "user": {
      "displayName": "calvin poh",
      "userId": "01610010728414180948"
     },
     "user_tz": -480
    },
    "id": "1zNcPt08ZD0u",
    "outputId": "2ee6bdff-678c-4019-b8eb-3140fbad7c1e"
   },
   "outputs": [
    {
     "name": "stdout",
     "output_type": "stream",
     "text": [
      "24/24 [==============================] - 2s 74ms/step - loss: 0.4562 - accuracy: 0.9844\n",
      "5/5 [==============================] - 0s 81ms/step - loss: 0.6337 - accuracy: 0.9250\n",
      "60/60 [==============================] - 1s 14ms/step - loss: 0.8283 - accuracy: 0.8667\n"
     ]
    }
   ],
   "source": [
    "secondmodel_trainscore = secondmodel.evaluate(trainDataSet,steps=trainDataSet.samples // trainDataSet.batch_size)\n",
    "secondmodel_validationscore = secondmodel.evaluate(validDataSet,steps=validDataSet.samples // validDataSet.batch_size)\n",
    "secondmodel_testscore = secondmodel.evaluate(test_generator,steps=test_generator.samples // test_generator.batch_size)"
   ]
  },
  {
   "cell_type": "code",
   "execution_count": null,
   "metadata": {
    "colab": {
     "base_uri": "https://localhost:8080/"
    },
    "executionInfo": {
     "elapsed": 6,
     "status": "ok",
     "timestamp": 1700579337604,
     "user": {
      "displayName": "calvin poh",
      "userId": "01610010728414180948"
     },
     "user_tz": -480
    },
    "id": "ljoJ77NdZSBl",
    "outputId": "e3e5f2b4-47ee-475d-ad35-c261d83ea995"
   },
   "outputs": [
    {
     "name": "stdout",
     "output_type": "stream",
     "text": [
      "The base model accuracy score for the train:  0.984375\n",
      "The base model accuracy score for the validation:  0.93\n",
      "======================================================\n",
      "The base model accuracy score for the test:  0.87\n"
     ]
    }
   ],
   "source": [
    "print(\"The base model accuracy score for the train: \",secondmodel_trainscore[1])\n",
    "print(\"The base model accuracy score for the validation: \",round(secondmodel_validationscore[1],2))\n",
    "print(\"======================================================\")\n",
    "print(\"The base model accuracy score for the test: \",round(secondmodel_testscore[1],2))\n"
   ]
  },
  {
   "cell_type": "markdown",
   "metadata": {
    "id": "LrsrChjyxfEL"
   },
   "source": [
    "Removing outliers"
   ]
  },
  {
   "cell_type": "code",
   "execution_count": 8,
   "metadata": {
    "executionInfo": {
     "elapsed": 456,
     "status": "ok",
     "timestamp": 1700750315614,
     "user": {
      "displayName": "calvin poh",
      "userId": "01610010728414180948"
     },
     "user_tz": -480
    },
    "id": "Fru0tBRryYtz"
   },
   "outputs": [],
   "source": [
    "import os\n",
    "import pandas as pd"
   ]
  },
  {
   "cell_type": "code",
   "execution_count": 9,
   "metadata": {
    "executionInfo": {
     "elapsed": 1,
     "status": "ok",
     "timestamp": 1700750315614,
     "user": {
      "displayName": "calvin poh",
      "userId": "01610010728414180948"
     },
     "user_tz": -480
    },
    "id": "kSGl2iLmZkbF"
   },
   "outputs": [],
   "source": [
    "UmapwrongImageList = [\"train_sorted/banana/banana_61.jpg\",\"train_sorted/apple/apple_3.jpg\"]\n",
    "wrongImageList = [\"train_sorted/banana/banana_35.jpg\",\"train_sorted/banana/banana_61.jpg\",\"train_sorted/mixed/mixed_20.jpg\"]\n"
   ]
  },
  {
   "cell_type": "code",
   "execution_count": 10,
   "metadata": {
    "executionInfo": {
     "elapsed": 2,
     "status": "ok",
     "timestamp": 1700749626605,
     "user": {
      "displayName": "calvin poh",
      "userId": "01610010728414180948"
     },
     "user_tz": -480
    },
    "id": "Fjx-ZDk3yOyC"
   },
   "outputs": [],
   "source": [
    "train_sort_path = \"/content/drive/Othercomputers/New Desktop/NUS ISS/Sem 2/Machine Learning/09 Team Project/train_sorted\""
   ]
  },
  {
   "cell_type": "code",
   "execution_count": 11,
   "metadata": {
    "executionInfo": {
     "elapsed": 5239,
     "status": "ok",
     "timestamp": 1700749631842,
     "user": {
      "displayName": "calvin poh",
      "userId": "01610010728414180948"
     },
     "user_tz": -480
    },
    "id": "YmLWfoYlx17Y"
   },
   "outputs": [
    {
     "ename": "FileNotFoundError",
     "evalue": "[WinError 3] The system cannot find the path specified: '/content/drive/Othercomputers/New Desktop/NUS ISS/Sem 2/Machine Learning/09 Team Project/train_sorted'",
     "output_type": "error",
     "traceback": [
      "\u001b[1;31m---------------------------------------------------------------------------\u001b[0m",
      "\u001b[1;31mFileNotFoundError\u001b[0m                         Traceback (most recent call last)",
      "\u001b[1;32mc:\\Users\\calvi\\NUS ISS\\Sem 2\\Machine Learning\\09 Team Project\\model_training.ipynb Cell 33\u001b[0m line \u001b[0;36m7\n\u001b[0;32m      <a href='vscode-notebook-cell:/c%3A/Users/calvi/NUS%20ISS/Sem%202/Machine%20Learning/09%20Team%20Project/model_training.ipynb#X44sZmlsZQ%3D%3D?line=4'>5</a>\u001b[0m imagedata \u001b[39m=\u001b[39m []\n\u001b[0;32m      <a href='vscode-notebook-cell:/c%3A/Users/calvi/NUS%20ISS/Sem%202/Machine%20Learning/09%20Team%20Project/model_training.ipynb#X44sZmlsZQ%3D%3D?line=5'>6</a>\u001b[0m row \u001b[39m=\u001b[39m \u001b[39m0\u001b[39m\n\u001b[1;32m----> <a href='vscode-notebook-cell:/c%3A/Users/calvi/NUS%20ISS/Sem%202/Machine%20Learning/09%20Team%20Project/model_training.ipynb#X44sZmlsZQ%3D%3D?line=6'>7</a>\u001b[0m \u001b[39mfor\u001b[39;00m classname \u001b[39min\u001b[39;00m os\u001b[39m.\u001b[39;49mlistdir(train_sort_path):\n\u001b[0;32m      <a href='vscode-notebook-cell:/c%3A/Users/calvi/NUS%20ISS/Sem%202/Machine%20Learning/09%20Team%20Project/model_training.ipynb#X44sZmlsZQ%3D%3D?line=7'>8</a>\u001b[0m     classpath \u001b[39m=\u001b[39m os\u001b[39m.\u001b[39mpath\u001b[39m.\u001b[39mjoin(train_sort_path, classname)\n\u001b[0;32m      <a href='vscode-notebook-cell:/c%3A/Users/calvi/NUS%20ISS/Sem%202/Machine%20Learning/09%20Team%20Project/model_training.ipynb#X44sZmlsZQ%3D%3D?line=8'>9</a>\u001b[0m     \u001b[39mfor\u001b[39;00m imagepath \u001b[39min\u001b[39;00m os\u001b[39m.\u001b[39mlistdir(classpath):\n",
      "\u001b[1;31mFileNotFoundError\u001b[0m: [WinError 3] The system cannot find the path specified: '/content/drive/Othercomputers/New Desktop/NUS ISS/Sem 2/Machine Learning/09 Team Project/train_sorted'"
     ]
    }
   ],
   "source": [
    "# Excluding outliers\n",
    "outliers = wrongImageList + UmapwrongImageList\n",
    "\n",
    "# Creating a dataframe to facilitate the flow_from_dataframe function for the ImageDataGenerator\n",
    "imagedata = []\n",
    "row = 0\n",
    "for classname in os.listdir(train_sort_path):\n",
    "    classpath = os.path.join(train_sort_path, classname)\n",
    "    for imagepath in os.listdir(classpath):\n",
    "        imagerelativepath = os.path.join(classname,imagepath)\n",
    "        if (\"train_sorted/\" + imagerelativepath) not in outliers:\n",
    "            imagedata.append([imagerelativepath, classname])\n",
    "\n",
    "\n",
    "imagedataframe = pd.DataFrame(data= imagedata, columns=(\"pathname\",\"class\"))"
   ]
  },
  {
   "cell_type": "code",
   "execution_count": null,
   "metadata": {
    "colab": {
     "base_uri": "https://localhost:8080/"
    },
    "executionInfo": {
     "elapsed": 6,
     "status": "ok",
     "timestamp": 1700723175004,
     "user": {
      "displayName": "calvin poh",
      "userId": "01610010728414180948"
     },
     "user_tz": -480
    },
    "id": "yWjvktVuyisB",
    "outputId": "8f93dd09-0a77-4fbf-f1a3-9babf73acc76"
   },
   "outputs": [
    {
     "data": {
      "text/plain": [
       "(236, 2)"
      ]
     },
     "execution_count": 9,
     "metadata": {},
     "output_type": "execute_result"
    }
   ],
   "source": [
    "imagedataframe.shape"
   ]
  },
  {
   "cell_type": "code",
   "execution_count": null,
   "metadata": {
    "colab": {
     "base_uri": "https://localhost:8080/"
    },
    "executionInfo": {
     "elapsed": 6,
     "status": "ok",
     "timestamp": 1700619357913,
     "user": {
      "displayName": "calvin poh",
      "userId": "01610010728414180948"
     },
     "user_tz": -480
    },
    "id": "03cDSqplykhn",
    "outputId": "aac30fb5-d0da-4241-8acc-8f199025c785"
   },
   "outputs": [
    {
     "name": "stdout",
     "output_type": "stream",
     "text": [
      "Found 189 validated image filenames belonging to 4 classes.\n",
      "Found 47 validated image filenames belonging to 4 classes.\n"
     ]
    }
   ],
   "source": [
    "datagen = ImageDataGenerator(\n",
    "    rescale = 1./255,\n",
    "    validation_split=0.2\n",
    ")\n",
    "\n",
    "cleaned_train_generator = datagen.flow_from_dataframe(\n",
    "    dataframe=imagedataframe,\n",
    "    directory=train_sort_path,\n",
    "    x_col='pathname',\n",
    "    y_col='class',\n",
    "    target_size=(image_height, image_width),\n",
    "    subset='training',\n",
    "    class_mode='categorical',\n",
    "    shuffle=True,\n",
    "    batch_size=8\n",
    ")\n",
    "\n",
    "cleaned_validation_generator = datagen.flow_from_dataframe(\n",
    "    dataframe=imagedataframe,\n",
    "    directory=train_sort_path,\n",
    "    x_col='pathname',\n",
    "    y_col='class',\n",
    "    target_size=(image_height, image_width),\n",
    "    subset='validation',\n",
    "    class_mode='categorical',\n",
    "    shuffle=True,\n",
    "    batch_size=8\n",
    ")\n"
   ]
  },
  {
   "cell_type": "code",
   "execution_count": null,
   "metadata": {
    "colab": {
     "base_uri": "https://localhost:8080/"
    },
    "collapsed": true,
    "executionInfo": {
     "elapsed": 376559,
     "status": "ok",
     "timestamp": 1700619736713,
     "user": {
      "displayName": "calvin poh",
      "userId": "01610010728414180948"
     },
     "user_tz": -480
    },
    "id": "Tn9s256Ky9rb",
    "jupyter": {
     "outputs_hidden": true
    },
    "outputId": "df621fde-ec9f-4f9c-ee24-297d79c8e9f3",
    "tags": []
   },
   "outputs": [
    {
     "name": "stdout",
     "output_type": "stream",
     "text": [
      "Epoch 1/75\n",
      "17/23 [=====================>........] - ETA: 18s - loss: 7.1603 - accuracy: 0.3015"
     ]
    },
    {
     "name": "stderr",
     "output_type": "stream",
     "text": [
      "/usr/local/lib/python3.10/dist-packages/PIL/Image.py:996: UserWarning: Palette images with Transparency expressed in bytes should be converted to RGBA images\n",
      "  warnings.warn(\n"
     ]
    },
    {
     "name": "stdout",
     "output_type": "stream",
     "text": [
      "23/23 [==============================] - 101s 4s/step - loss: 6.2023 - accuracy: 0.2818 - val_loss: 3.3335 - val_accuracy: 0.0000e+00\n",
      "Epoch 2/75\n",
      "23/23 [==============================] - 3s 109ms/step - loss: 3.0428 - accuracy: 0.3812 - val_loss: 2.9360 - val_accuracy: 0.0000e+00\n",
      "Epoch 3/75\n",
      "23/23 [==============================] - 3s 117ms/step - loss: 2.4268 - accuracy: 0.3536 - val_loss: 2.3570 - val_accuracy: 0.6750\n",
      "Epoch 4/75\n",
      "23/23 [==============================] - 3s 126ms/step - loss: 2.0184 - accuracy: 0.5359 - val_loss: 2.2010 - val_accuracy: 0.0000e+00\n",
      "Epoch 5/75\n",
      "23/23 [==============================] - 4s 168ms/step - loss: 1.6853 - accuracy: 0.5635 - val_loss: 2.0278 - val_accuracy: 0.2500\n",
      "Epoch 6/75\n",
      "23/23 [==============================] - 3s 128ms/step - loss: 1.6004 - accuracy: 0.5746 - val_loss: 2.0957 - val_accuracy: 0.0250\n",
      "Epoch 7/75\n",
      "23/23 [==============================] - 3s 116ms/step - loss: 1.4349 - accuracy: 0.5580 - val_loss: 1.8121 - val_accuracy: 0.0000e+00\n",
      "Epoch 8/75\n",
      "23/23 [==============================] - 3s 109ms/step - loss: 1.2714 - accuracy: 0.5967 - val_loss: 1.6691 - val_accuracy: 0.4750\n",
      "Epoch 9/75\n",
      "23/23 [==============================] - 4s 152ms/step - loss: 1.1883 - accuracy: 0.6740 - val_loss: 1.8925 - val_accuracy: 0.4500\n",
      "Epoch 10/75\n",
      "23/23 [==============================] - 3s 110ms/step - loss: 1.3128 - accuracy: 0.6575 - val_loss: 1.5160 - val_accuracy: 0.7000\n",
      "Epoch 11/75\n",
      "23/23 [==============================] - 3s 109ms/step - loss: 1.1513 - accuracy: 0.6519 - val_loss: 0.9590 - val_accuracy: 0.9750\n",
      "Epoch 12/75\n",
      "23/23 [==============================] - 3s 146ms/step - loss: 1.0560 - accuracy: 0.7680 - val_loss: 0.9541 - val_accuracy: 0.9000\n",
      "Epoch 13/75\n",
      "23/23 [==============================] - 3s 124ms/step - loss: 0.8802 - accuracy: 0.8232 - val_loss: 1.1640 - val_accuracy: 0.6500\n",
      "Epoch 14/75\n",
      "23/23 [==============================] - 3s 111ms/step - loss: 1.1396 - accuracy: 0.7293 - val_loss: 1.4883 - val_accuracy: 0.6750\n",
      "Epoch 15/75\n",
      "23/23 [==============================] - 3s 112ms/step - loss: 1.0257 - accuracy: 0.8177 - val_loss: 1.2160 - val_accuracy: 0.9250\n",
      "Epoch 16/75\n",
      "23/23 [==============================] - 3s 135ms/step - loss: 0.9592 - accuracy: 0.8011 - val_loss: 0.9282 - val_accuracy: 0.8500\n",
      "Epoch 17/75\n",
      "23/23 [==============================] - 3s 151ms/step - loss: 1.0033 - accuracy: 0.7569 - val_loss: 1.2513 - val_accuracy: 0.8500\n",
      "Epoch 18/75\n",
      "23/23 [==============================] - 3s 111ms/step - loss: 0.8894 - accuracy: 0.7956 - val_loss: 0.8736 - val_accuracy: 0.9000\n",
      "Epoch 19/75\n",
      "23/23 [==============================] - 2s 109ms/step - loss: 0.9491 - accuracy: 0.8508 - val_loss: 0.8852 - val_accuracy: 0.8750\n",
      "Epoch 20/75\n",
      "23/23 [==============================] - 3s 114ms/step - loss: 0.8596 - accuracy: 0.8287 - val_loss: 0.8620 - val_accuracy: 0.9750\n",
      "Epoch 21/75\n",
      "23/23 [==============================] - 4s 166ms/step - loss: 1.0047 - accuracy: 0.8287 - val_loss: 0.5236 - val_accuracy: 1.0000\n",
      "Epoch 22/75\n",
      "23/23 [==============================] - 3s 119ms/step - loss: 1.0057 - accuracy: 0.7845 - val_loss: 0.8810 - val_accuracy: 0.8500\n",
      "Epoch 23/75\n",
      "23/23 [==============================] - 3s 106ms/step - loss: 0.8746 - accuracy: 0.8398 - val_loss: 0.8340 - val_accuracy: 0.9750\n",
      "Epoch 24/75\n",
      "23/23 [==============================] - 3s 112ms/step - loss: 0.8398 - accuracy: 0.8343 - val_loss: 0.5149 - val_accuracy: 1.0000\n",
      "Epoch 25/75\n",
      "23/23 [==============================] - 3s 108ms/step - loss: 0.6756 - accuracy: 0.8840 - val_loss: 0.7568 - val_accuracy: 0.8750\n",
      "Epoch 26/75\n",
      "23/23 [==============================] - 3s 141ms/step - loss: 0.6607 - accuracy: 0.8729 - val_loss: 0.4785 - val_accuracy: 0.9750\n",
      "Epoch 27/75\n",
      "23/23 [==============================] - 3s 116ms/step - loss: 0.6119 - accuracy: 0.8674 - val_loss: 0.3978 - val_accuracy: 0.9750\n",
      "Epoch 28/75\n",
      "23/23 [==============================] - 3s 115ms/step - loss: 0.6444 - accuracy: 0.8674 - val_loss: 0.7697 - val_accuracy: 0.8500\n",
      "Epoch 29/75\n",
      "23/23 [==============================] - 3s 108ms/step - loss: 0.6934 - accuracy: 0.8895 - val_loss: 0.4711 - val_accuracy: 0.9500\n",
      "Epoch 30/75\n",
      "23/23 [==============================] - 4s 158ms/step - loss: 0.8308 - accuracy: 0.8398 - val_loss: 0.4998 - val_accuracy: 1.0000\n",
      "Epoch 31/75\n",
      "23/23 [==============================] - 3s 110ms/step - loss: 0.8022 - accuracy: 0.8785 - val_loss: 0.4505 - val_accuracy: 1.0000\n",
      "Epoch 32/75\n",
      "23/23 [==============================] - 3s 109ms/step - loss: 0.5883 - accuracy: 0.8950 - val_loss: 0.3384 - val_accuracy: 1.0000\n",
      "Epoch 33/75\n",
      "23/23 [==============================] - 3s 121ms/step - loss: 0.5904 - accuracy: 0.9116 - val_loss: 0.3618 - val_accuracy: 1.0000\n",
      "Epoch 34/75\n",
      "23/23 [==============================] - 4s 148ms/step - loss: 0.7663 - accuracy: 0.8785 - val_loss: 0.6712 - val_accuracy: 0.9500\n",
      "Epoch 35/75\n",
      "23/23 [==============================] - 4s 153ms/step - loss: 0.9894 - accuracy: 0.8674 - val_loss: 0.7739 - val_accuracy: 0.9500\n",
      "Epoch 36/75\n",
      "23/23 [==============================] - 3s 111ms/step - loss: 0.9998 - accuracy: 0.8785 - val_loss: 0.5578 - val_accuracy: 1.0000\n",
      "Epoch 37/75\n",
      "23/23 [==============================] - 3s 115ms/step - loss: 1.0299 - accuracy: 0.8398 - val_loss: 0.6675 - val_accuracy: 0.9500\n",
      "Epoch 38/75\n",
      "23/23 [==============================] - 3s 115ms/step - loss: 0.9831 - accuracy: 0.8287 - val_loss: 0.6848 - val_accuracy: 0.9750\n",
      "Epoch 39/75\n",
      "23/23 [==============================] - 3s 134ms/step - loss: 0.8377 - accuracy: 0.8564 - val_loss: 0.4361 - val_accuracy: 1.0000\n",
      "Epoch 40/75\n",
      "23/23 [==============================] - 3s 109ms/step - loss: 0.7964 - accuracy: 0.8895 - val_loss: 0.5085 - val_accuracy: 1.0000\n",
      "Epoch 41/75\n",
      "23/23 [==============================] - 3s 142ms/step - loss: 0.6712 - accuracy: 0.9282 - val_loss: 0.5368 - val_accuracy: 0.9750\n",
      "Epoch 42/75\n",
      "23/23 [==============================] - 4s 157ms/step - loss: 0.7216 - accuracy: 0.9392 - val_loss: 0.5301 - val_accuracy: 0.9750\n",
      "Epoch 43/75\n",
      "23/23 [==============================] - 4s 154ms/step - loss: 0.9216 - accuracy: 0.8564 - val_loss: 0.6243 - val_accuracy: 1.0000\n",
      "Epoch 44/75\n",
      "23/23 [==============================] - 3s 113ms/step - loss: 1.0690 - accuracy: 0.8785 - val_loss: 0.8887 - val_accuracy: 0.9750\n",
      "Epoch 45/75\n",
      "23/23 [==============================] - 3s 110ms/step - loss: 1.0567 - accuracy: 0.9061 - val_loss: 0.8396 - val_accuracy: 0.9750\n",
      "Epoch 46/75\n",
      "23/23 [==============================] - 3s 115ms/step - loss: 0.9991 - accuracy: 0.9227 - val_loss: 0.8189 - val_accuracy: 0.9750\n",
      "Epoch 47/75\n",
      "23/23 [==============================] - 3s 128ms/step - loss: 0.8695 - accuracy: 0.8840 - val_loss: 0.5609 - val_accuracy: 0.9750\n",
      "Epoch 48/75\n",
      "23/23 [==============================] - 4s 167ms/step - loss: 0.6992 - accuracy: 0.9006 - val_loss: 0.7393 - val_accuracy: 0.9000\n",
      "Epoch 49/75\n",
      "23/23 [==============================] - 3s 129ms/step - loss: 0.8390 - accuracy: 0.8674 - val_loss: 0.7222 - val_accuracy: 0.9750\n",
      "Epoch 50/75\n",
      "23/23 [==============================] - 3s 108ms/step - loss: 0.8648 - accuracy: 0.9392 - val_loss: 0.5544 - val_accuracy: 1.0000\n",
      "Epoch 51/75\n",
      "23/23 [==============================] - 2s 109ms/step - loss: 0.6159 - accuracy: 0.9282 - val_loss: 0.3510 - val_accuracy: 1.0000\n",
      "Epoch 52/75\n",
      "23/23 [==============================] - 3s 124ms/step - loss: 0.5831 - accuracy: 0.9116 - val_loss: 0.3691 - val_accuracy: 1.0000\n",
      "Epoch 53/75\n",
      "23/23 [==============================] - 3s 147ms/step - loss: 0.6937 - accuracy: 0.9006 - val_loss: 0.6103 - val_accuracy: 0.9500\n",
      "Epoch 54/75\n",
      "23/23 [==============================] - 4s 178ms/step - loss: 0.9496 - accuracy: 0.8785 - val_loss: 0.7736 - val_accuracy: 0.9500\n",
      "Epoch 55/75\n",
      "23/23 [==============================] - 3s 108ms/step - loss: 0.7898 - accuracy: 0.9392 - val_loss: 0.4622 - val_accuracy: 1.0000\n",
      "Epoch 56/75\n",
      "23/23 [==============================] - 3s 112ms/step - loss: 0.6304 - accuracy: 0.9171 - val_loss: 0.6326 - val_accuracy: 0.9500\n",
      "Epoch 57/75\n",
      "23/23 [==============================] - 3s 110ms/step - loss: 0.6870 - accuracy: 0.9337 - val_loss: 0.5028 - val_accuracy: 1.0000\n",
      "Epoch 58/75\n",
      "23/23 [==============================] - 3s 129ms/step - loss: 0.6424 - accuracy: 0.9503 - val_loss: 0.7001 - val_accuracy: 0.9250\n",
      "Epoch 59/75\n",
      "23/23 [==============================] - 3s 130ms/step - loss: 0.5141 - accuracy: 0.9448 - val_loss: 0.5018 - val_accuracy: 0.9250\n",
      "Epoch 60/75\n",
      "23/23 [==============================] - 3s 111ms/step - loss: 0.4234 - accuracy: 0.9613 - val_loss: 0.3400 - val_accuracy: 0.9750\n",
      "Epoch 61/75\n",
      "23/23 [==============================] - 3s 110ms/step - loss: 0.6575 - accuracy: 0.9448 - val_loss: 0.8984 - val_accuracy: 0.9750\n",
      "Epoch 62/75\n",
      "23/23 [==============================] - 3s 147ms/step - loss: 1.1133 - accuracy: 0.8785 - val_loss: 1.2350 - val_accuracy: 0.8250\n",
      "Epoch 63/75\n",
      "23/23 [==============================] - 3s 112ms/step - loss: 0.9769 - accuracy: 0.9337 - val_loss: 0.6982 - val_accuracy: 1.0000\n",
      "Epoch 64/75\n",
      "23/23 [==============================] - 3s 108ms/step - loss: 0.9995 - accuracy: 0.8840 - val_loss: 1.0539 - val_accuracy: 0.8250\n",
      "Epoch 65/75\n",
      "23/23 [==============================] - 3s 153ms/step - loss: 0.9271 - accuracy: 0.9171 - val_loss: 1.8324 - val_accuracy: 0.8500\n",
      "Epoch 66/75\n",
      "23/23 [==============================] - 4s 163ms/step - loss: 0.7090 - accuracy: 0.9227 - val_loss: 0.4498 - val_accuracy: 0.9750\n",
      "Epoch 67/75\n",
      "23/23 [==============================] - 3s 98ms/step - loss: 0.6227 - accuracy: 0.9724 - val_loss: 0.4871 - val_accuracy: 1.0000\n",
      "Epoch 68/75\n",
      "23/23 [==============================] - 3s 107ms/step - loss: 0.5518 - accuracy: 0.9613 - val_loss: 0.6262 - val_accuracy: 0.9000\n",
      "Epoch 69/75\n",
      "23/23 [==============================] - 3s 110ms/step - loss: 0.6386 - accuracy: 0.9171 - val_loss: 0.8220 - val_accuracy: 0.9250\n",
      "Epoch 70/75\n",
      "23/23 [==============================] - 3s 151ms/step - loss: 0.7739 - accuracy: 0.9227 - val_loss: 1.0770 - val_accuracy: 0.9250\n",
      "Epoch 71/75\n",
      "23/23 [==============================] - 3s 120ms/step - loss: 0.7591 - accuracy: 0.9227 - val_loss: 0.6724 - val_accuracy: 0.9500\n",
      "Epoch 72/75\n",
      "23/23 [==============================] - 3s 115ms/step - loss: 0.6825 - accuracy: 0.9392 - val_loss: 0.7380 - val_accuracy: 0.9250\n",
      "Epoch 73/75\n",
      "23/23 [==============================] - 3s 111ms/step - loss: 0.5487 - accuracy: 0.9558 - val_loss: 0.8970 - val_accuracy: 0.8750\n",
      "Epoch 74/75\n",
      "23/23 [==============================] - 4s 160ms/step - loss: 0.4418 - accuracy: 0.9669 - val_loss: 0.3458 - val_accuracy: 0.9500\n",
      "Epoch 75/75\n",
      "23/23 [==============================] - 3s 148ms/step - loss: 0.4406 - accuracy: 0.9392 - val_loss: 0.4614 - val_accuracy: 0.9250\n"
     ]
    }
   ],
   "source": [
    "num_epochs = 75\n",
    "history = secondmodel.fit(\n",
    "    cleaned_train_generator,\n",
    "    steps_per_epoch = cleaned_train_generator.samples // cleaned_train_generator.batch_size,\n",
    "    epochs = num_epochs,\n",
    "    validation_data = cleaned_validation_generator,\n",
    "    validation_steps = cleaned_validation_generator.samples // cleaned_validation_generator.batch_size,\n",
    "    verbose = 1\n",
    ")"
   ]
  },
  {
   "cell_type": "code",
   "execution_count": null,
   "metadata": {
    "id": "ld9ni4phzj9e"
   },
   "outputs": [],
   "source": [
    "# Saving the third model\n",
    "#secondmodel.save('/content/drive/Othercomputers/New Desktop/NUS ISS/Sem 2/Machine Learning/09 Team Project/cleaned_improvedmodel.keras')"
   ]
  },
  {
   "cell_type": "code",
   "execution_count": null,
   "metadata": {
    "colab": {
     "base_uri": "https://localhost:8080/"
    },
    "executionInfo": {
     "elapsed": 26227,
     "status": "ok",
     "timestamp": 1700619958712,
     "user": {
      "displayName": "calvin poh",
      "userId": "01610010728414180948"
     },
     "user_tz": -480
    },
    "id": "9dNL2FyE13oK",
    "outputId": "53132a8b-a80f-4776-ae5a-9d3774b5f792"
   },
   "outputs": [
    {
     "name": "stdout",
     "output_type": "stream",
     "text": [
      "23/23 [==============================] - 3s 122ms/step - loss: 0.3409 - accuracy: 0.9783\n",
      "5/5 [==============================] - 1s 94ms/step - loss: 0.4528 - accuracy: 0.9250\n",
      "60/60 [==============================] - 22s 371ms/step - loss: 0.5322 - accuracy: 0.8833\n"
     ]
    }
   ],
   "source": [
    "thirdmodel_trainscore = secondmodel.evaluate(cleaned_train_generator,steps=cleaned_train_generator.samples // cleaned_train_generator.batch_size)\n",
    "thirdmodel_validationscore = secondmodel.evaluate(cleaned_validation_generator,steps=cleaned_validation_generator.samples // cleaned_validation_generator.batch_size)\n",
    "thirdmodel_testscore = secondmodel.evaluate(test_generator,steps=test_generator.samples // test_generator.batch_size)"
   ]
  },
  {
   "cell_type": "code",
   "execution_count": null,
   "metadata": {
    "colab": {
     "base_uri": "https://localhost:8080/"
    },
    "executionInfo": {
     "elapsed": 5,
     "status": "ok",
     "timestamp": 1700619962797,
     "user": {
      "displayName": "calvin poh",
      "userId": "01610010728414180948"
     },
     "user_tz": -480
    },
    "id": "Fr8Vsu5r13ob",
    "outputId": "ca1dfdac-2bf3-4739-876b-812e3cb74b35"
   },
   "outputs": [
    {
     "name": "stdout",
     "output_type": "stream",
     "text": [
      "The base model accuracy score for the train:  0.97826087474823\n",
      "The base model accuracy score for the validation:  0.93\n",
      "======================================================\n",
      "The base model accuracy score for the test:  0.88\n"
     ]
    }
   ],
   "source": [
    "print(\"The base model accuracy score for the train: \",thirdmodel_trainscore[1])\n",
    "print(\"The base model accuracy score for the validation: \",round(thirdmodel_validationscore[1],2))\n",
    "print(\"======================================================\")\n",
    "print(\"The base model accuracy score for the test: \",round(thirdmodel_testscore[1],2))\n"
   ]
  },
  {
   "cell_type": "code",
   "execution_count": 15,
   "metadata": {
    "executionInfo": {
     "elapsed": 1,
     "status": "ok",
     "timestamp": 1700750325404,
     "user": {
      "displayName": "calvin poh",
      "userId": "01610010728414180948"
     },
     "user_tz": -480
    },
    "id": "m4BCKbWTs09h"
   },
   "outputs": [],
   "source": [
    "train_sort_path = \"additional_train_sorted\""
   ]
  },
  {
   "cell_type": "markdown",
   "metadata": {},
   "source": [
    "### Creating Augmented dataset"
   ]
  },
  {
   "cell_type": "code",
   "execution_count": 25,
   "metadata": {
    "executionInfo": {
     "elapsed": 5168,
     "status": "ok",
     "timestamp": 1700750332102,
     "user": {
      "displayName": "calvin poh",
      "userId": "01610010728414180948"
     },
     "user_tz": -480
    },
    "id": "koB2Gsjus09i"
   },
   "outputs": [],
   "source": [
    "# Excluding outliers\n",
    "outliers = wrongImageList + UmapwrongImageList\n",
    "\n",
    "# Creating a dataframe to facilitate the flow_from_dataframe function for the ImageDataGenerator\n",
    "imagedata = []\n",
    "row = 0\n",
    "for classname in os.listdir(train_sort_path):\n",
    "    classpath = os.path.join(train_sort_path, classname)\n",
    "    for imagepath in os.listdir(classpath):\n",
    "        imagerelativepath = os.path.join(classname,imagepath)\n",
    "        if (\"train_sorted/\" + imagerelativepath) not in outliers:\n",
    "            imagedata.append([imagerelativepath, classname])\n",
    "\n",
    "\n",
    "imagedataframe = pd.DataFrame(data= imagedata, columns=(\"pathname\",\"class\"))"
   ]
  },
  {
   "cell_type": "code",
   "execution_count": 26,
   "metadata": {
    "executionInfo": {
     "elapsed": 3,
     "status": "ok",
     "timestamp": 1700750332102,
     "user": {
      "displayName": "calvin poh",
      "userId": "01610010728414180948"
     },
     "user_tz": -480
    },
    "id": "maCeYB1M2H6W"
   },
   "outputs": [],
   "source": [
    "# Defining our augmentation parameters\n",
    "augmenteddatagen = ImageDataGenerator(\n",
    "    rescale=1./255,\n",
    "    rotation_range=45,\n",
    "    width_shift_range=0.2,\n",
    "    height_shift_range=0.2,\n",
    "    shear_range=0.2,\n",
    "    zoom_range=0.2,\n",
    "    horizontal_flip=True,\n",
    "    vertical_flip=True,\n",
    "    fill_mode='nearest',\n",
    "    validation_split=0.2\n",
    ")"
   ]
  },
  {
   "cell_type": "code",
   "execution_count": 27,
   "metadata": {
    "colab": {
     "base_uri": "https://localhost:8080/"
    },
    "executionInfo": {
     "elapsed": 598,
     "status": "ok",
     "timestamp": 1700750332698,
     "user": {
      "displayName": "calvin poh",
      "userId": "01610010728414180948"
     },
     "user_tz": -480
    },
    "id": "MhhSMDrngMjT",
    "outputId": "07c3691a-a04a-4563-e208-83c17e984d52"
   },
   "outputs": [
    {
     "name": "stdout",
     "output_type": "stream",
     "text": [
      "Found 733 validated image filenames belonging to 4 classes.\n",
      "Found 183 validated image filenames belonging to 4 classes.\n"
     ]
    }
   ],
   "source": [
    "augmented_train_generator = augmenteddatagen.flow_from_dataframe(\n",
    "    dataframe=imagedataframe,\n",
    "    directory=train_sort_path,\n",
    "    x_col='pathname',\n",
    "    y_col='class',\n",
    "    target_size=(image_height, image_width),\n",
    "    subset='training',\n",
    "    class_mode='categorical',\n",
    "    shuffle=True,\n",
    "    batch_size=16\n",
    ")\n",
    "\n",
    "augmented_validation_generator = augmenteddatagen.flow_from_dataframe(\n",
    "    dataframe=imagedataframe,\n",
    "    directory=train_sort_path,\n",
    "    x_col='pathname',\n",
    "    y_col='class',\n",
    "    target_size=(image_height, image_width),\n",
    "    subset='validation',\n",
    "    class_mode='categorical',\n",
    "    shuffle=True,\n",
    "    batch_size=16\n",
    ")\n"
   ]
  },
  {
   "cell_type": "code",
   "execution_count": 32,
   "metadata": {
    "colab": {
     "base_uri": "https://localhost:8080/",
     "height": 687
    },
    "collapsed": true,
    "executionInfo": {
     "elapsed": 546866,
     "status": "error",
     "timestamp": 1700750924984,
     "user": {
      "displayName": "calvin poh",
      "userId": "01610010728414180948"
     },
     "user_tz": -480
    },
    "id": "4NSvLEe4sfmF",
    "jupyter": {
     "outputs_hidden": true
    },
    "outputId": "b21042c7-ebdd-46cf-eeb4-256afc916b0d",
    "tags": []
   },
   "outputs": [
    {
     "name": "stdout",
     "output_type": "stream",
     "text": [
      "Epoch 1/40\n",
      "45/45 [==============================] - ETA: 0s - loss: 0.8871 - accuracy: 0.7490"
     ]
    },
    {
     "name": "stderr",
     "output_type": "stream",
     "text": [
      "C:\\Users\\calvi\\anaconda3\\envs\\tensorflowgpu\\lib\\site-packages\\PIL\\Image.py:996: UserWarning: Palette images with Transparency expressed in bytes should be converted to RGBA images\n",
      "  warnings.warn(\n"
     ]
    },
    {
     "name": "stdout",
     "output_type": "stream",
     "text": [
      "45/45 [==============================] - 8s 166ms/step - loss: 0.8871 - accuracy: 0.7490 - val_loss: 1.4797 - val_accuracy: 0.0511\n",
      "Epoch 2/40\n",
      "45/45 [==============================] - 8s 169ms/step - loss: 0.8351 - accuracy: 0.7755 - val_loss: 1.3128 - val_accuracy: 0.3920\n",
      "Epoch 3/40\n",
      "45/45 [==============================] - 8s 181ms/step - loss: 0.8719 - accuracy: 0.7713 - val_loss: 0.7787 - val_accuracy: 0.8182\n",
      "Epoch 4/40\n",
      "45/45 [==============================] - 8s 169ms/step - loss: 0.7491 - accuracy: 0.8201 - val_loss: 0.8744 - val_accuracy: 0.6648\n",
      "Epoch 5/40\n",
      "45/45 [==============================] - 8s 169ms/step - loss: 0.7380 - accuracy: 0.8368 - val_loss: 0.8447 - val_accuracy: 0.8352\n",
      "Epoch 6/40\n",
      "45/45 [==============================] - 7s 165ms/step - loss: 0.7094 - accuracy: 0.8382 - val_loss: 0.7959 - val_accuracy: 0.8182\n",
      "Epoch 7/40\n",
      "45/45 [==============================] - 8s 169ms/step - loss: 0.7096 - accuracy: 0.8438 - val_loss: 0.8711 - val_accuracy: 0.9261\n",
      "Epoch 8/40\n",
      "45/45 [==============================] - 7s 164ms/step - loss: 0.7579 - accuracy: 0.8396 - val_loss: 0.5476 - val_accuracy: 0.9318\n",
      "Epoch 9/40\n",
      "45/45 [==============================] - 8s 166ms/step - loss: 0.7206 - accuracy: 0.8536 - val_loss: 0.9920 - val_accuracy: 0.8580\n",
      "Epoch 10/40\n",
      "45/45 [==============================] - 7s 165ms/step - loss: 0.7662 - accuracy: 0.8550 - val_loss: 0.9042 - val_accuracy: 0.8239\n",
      "Epoch 11/40\n",
      "45/45 [==============================] - 8s 170ms/step - loss: 0.6784 - accuracy: 0.8801 - val_loss: 0.7519 - val_accuracy: 0.9545\n",
      "Epoch 12/40\n",
      "45/45 [==============================] - 7s 166ms/step - loss: 0.6564 - accuracy: 0.8619 - val_loss: 0.7247 - val_accuracy: 0.8977\n",
      "Epoch 13/40\n",
      "45/45 [==============================] - 8s 168ms/step - loss: 0.7170 - accuracy: 0.8633 - val_loss: 0.7292 - val_accuracy: 0.9034\n",
      "Epoch 14/40\n",
      "45/45 [==============================] - 8s 167ms/step - loss: 0.6407 - accuracy: 0.8689 - val_loss: 0.5049 - val_accuracy: 0.9602\n",
      "Epoch 15/40\n",
      "45/45 [==============================] - 8s 169ms/step - loss: 0.6437 - accuracy: 0.8842 - val_loss: 0.6288 - val_accuracy: 0.9830\n",
      "Epoch 16/40\n",
      "45/45 [==============================] - 7s 166ms/step - loss: 0.7532 - accuracy: 0.8703 - val_loss: 0.5955 - val_accuracy: 0.9545\n",
      "Epoch 17/40\n",
      "45/45 [==============================] - 8s 166ms/step - loss: 0.6919 - accuracy: 0.8926 - val_loss: 0.5160 - val_accuracy: 0.9830\n",
      "Epoch 18/40\n",
      "45/45 [==============================] - 7s 166ms/step - loss: 0.6208 - accuracy: 0.8884 - val_loss: 0.6955 - val_accuracy: 0.9545\n",
      "Epoch 19/40\n",
      "45/45 [==============================] - 8s 168ms/step - loss: 0.6137 - accuracy: 0.8912 - val_loss: 0.8211 - val_accuracy: 0.9091\n",
      "Epoch 20/40\n",
      "45/45 [==============================] - 8s 169ms/step - loss: 0.5944 - accuracy: 0.8954 - val_loss: 0.6126 - val_accuracy: 0.9091\n",
      "Epoch 21/40\n",
      "45/45 [==============================] - 8s 166ms/step - loss: 0.6151 - accuracy: 0.8801 - val_loss: 0.5131 - val_accuracy: 0.9659\n",
      "Epoch 22/40\n",
      "45/45 [==============================] - 7s 166ms/step - loss: 0.5387 - accuracy: 0.8996 - val_loss: 0.8371 - val_accuracy: 0.8750\n",
      "Epoch 23/40\n",
      "45/45 [==============================] - 8s 169ms/step - loss: 0.5951 - accuracy: 0.9010 - val_loss: 0.4900 - val_accuracy: 0.9489\n",
      "Epoch 24/40\n",
      "45/45 [==============================] - 8s 167ms/step - loss: 0.6815 - accuracy: 0.8912 - val_loss: 0.4008 - val_accuracy: 0.9773\n",
      "Epoch 25/40\n",
      "45/45 [==============================] - 7s 166ms/step - loss: 0.5774 - accuracy: 0.9010 - val_loss: 0.4834 - val_accuracy: 0.9659\n",
      "Epoch 26/40\n",
      "45/45 [==============================] - 7s 166ms/step - loss: 0.5890 - accuracy: 0.9052 - val_loss: 0.4369 - val_accuracy: 0.9545\n",
      "Epoch 27/40\n",
      "45/45 [==============================] - 8s 166ms/step - loss: 0.5779 - accuracy: 0.9010 - val_loss: 0.3630 - val_accuracy: 0.9602\n",
      "Epoch 28/40\n",
      "45/45 [==============================] - 7s 165ms/step - loss: 0.6744 - accuracy: 0.8954 - val_loss: 0.6996 - val_accuracy: 0.9489\n",
      "Epoch 29/40\n",
      "45/45 [==============================] - 7s 166ms/step - loss: 0.6544 - accuracy: 0.8926 - val_loss: 0.7586 - val_accuracy: 0.9091\n",
      "Epoch 30/40\n",
      "45/45 [==============================] - 8s 166ms/step - loss: 0.5509 - accuracy: 0.8912 - val_loss: 0.4786 - val_accuracy: 0.9602\n",
      "Epoch 31/40\n",
      "45/45 [==============================] - 8s 167ms/step - loss: 0.6303 - accuracy: 0.9024 - val_loss: 0.6642 - val_accuracy: 0.9318\n",
      "Epoch 32/40\n",
      "45/45 [==============================] - 8s 167ms/step - loss: 0.5297 - accuracy: 0.9135 - val_loss: 0.8599 - val_accuracy: 0.8864\n",
      "Epoch 33/40\n",
      "45/45 [==============================] - 7s 165ms/step - loss: 0.5300 - accuracy: 0.9010 - val_loss: 0.5723 - val_accuracy: 0.9545\n",
      "Epoch 34/40\n",
      "45/45 [==============================] - 7s 166ms/step - loss: 0.5793 - accuracy: 0.9010 - val_loss: 0.6727 - val_accuracy: 0.9432\n",
      "Epoch 35/40\n",
      "45/45 [==============================] - 8s 168ms/step - loss: 0.5779 - accuracy: 0.9107 - val_loss: 0.5716 - val_accuracy: 0.9659\n",
      "Epoch 36/40\n",
      "45/45 [==============================] - 7s 166ms/step - loss: 0.5619 - accuracy: 0.8944 - val_loss: 0.6826 - val_accuracy: 0.9375\n",
      "Epoch 37/40\n",
      "45/45 [==============================] - 8s 167ms/step - loss: 0.6459 - accuracy: 0.8912 - val_loss: 0.6530 - val_accuracy: 0.9432\n",
      "Epoch 38/40\n",
      "45/45 [==============================] - 8s 167ms/step - loss: 0.8500 - accuracy: 0.8703 - val_loss: 0.7724 - val_accuracy: 0.9261\n",
      "Epoch 39/40\n",
      "45/45 [==============================] - 8s 169ms/step - loss: 0.7559 - accuracy: 0.8884 - val_loss: 1.2345 - val_accuracy: 0.9034\n",
      "Epoch 40/40\n",
      "45/45 [==============================] - 7s 165ms/step - loss: 0.8314 - accuracy: 0.8912 - val_loss: 0.4778 - val_accuracy: 0.9659\n"
     ]
    }
   ],
   "source": [
    "num_epochs = 40\n",
    "with tf.device('/GPU:0'):\n",
    "    history = secondmodel.fit(\n",
    "        augmented_train_generator,\n",
    "        steps_per_epoch = augmented_train_generator.samples // augmented_train_generator.batch_size,\n",
    "        epochs = num_epochs,\n",
    "        validation_data = augmented_validation_generator,\n",
    "        validation_steps = augmented_validation_generator.samples // augmented_validation_generator.batch_size,\n",
    "        verbose = 1\n",
    "    )"
   ]
  },
  {
   "cell_type": "code",
   "execution_count": 36,
   "metadata": {},
   "outputs": [],
   "source": [
    "# Saving the third model\n",
    "# secondmodel.save('augmented_improvedmodel.keras')"
   ]
  },
  {
   "cell_type": "code",
   "execution_count": 33,
   "metadata": {
    "colab": {
     "base_uri": "https://localhost:8080/"
    },
    "executionInfo": {
     "elapsed": 86021,
     "status": "ok",
     "timestamp": 1700725162595,
     "user": {
      "displayName": "calvin poh",
      "userId": "01610010728414180948"
     },
     "user_tz": -480
    },
    "id": "jcNsZrdcGZ5N",
    "outputId": "f50c7ac5-7987-4b7c-9f73-afc74a65002c"
   },
   "outputs": [
    {
     "name": "stdout",
     "output_type": "stream",
     "text": [
      "45/45 [==============================] - 6s 133ms/step - loss: 0.6079 - accuracy: 0.9208\n",
      "11/11 [==============================] - 1s 132ms/step - loss: 0.4831 - accuracy: 0.9659\n",
      "60/60 [==============================] - 1s 9ms/step - loss: 0.8405 - accuracy: 0.8667\n"
     ]
    }
   ],
   "source": [
    "fourthmodel_trainscore = secondmodel.evaluate(augmented_train_generator,steps=augmented_train_generator.samples // augmented_train_generator.batch_size)\n",
    "fourthmodel_validationscore = secondmodel.evaluate(augmented_validation_generator,steps=augmented_validation_generator.samples // augmented_validation_generator.batch_size)\n",
    "fourthmodel_testscore = secondmodel.evaluate(test_generator,steps=test_generator.samples // test_generator.batch_size)"
   ]
  },
  {
   "cell_type": "code",
   "execution_count": 35,
   "metadata": {
    "colab": {
     "base_uri": "https://localhost:8080/",
     "height": 235
    },
    "executionInfo": {
     "elapsed": 8,
     "status": "error",
     "timestamp": 1700726043880,
     "user": {
      "displayName": "calvin poh",
      "userId": "01610010728414180948"
     },
     "user_tz": -480
    },
    "id": "EescUqinGZ5O",
    "outputId": "7ab8b20f-7c48-44be-ede4-3a99908c773d"
   },
   "outputs": [
    {
     "name": "stdout",
     "output_type": "stream",
     "text": [
      "The base model accuracy score for the train:  0.9208333492279053\n",
      "The base model accuracy score for the validation:  0.97\n",
      "======================================================\n",
      "The base model accuracy score for the test:  0.87\n"
     ]
    }
   ],
   "source": [
    "print(\"The base model accuracy score for the train: \",fourthmodel_trainscore[1])\n",
    "print(\"The base model accuracy score for the validation: \",round(fourthmodel_validationscore[1],2))\n",
    "print(\"======================================================\")\n",
    "print(\"The base model accuracy score for the test: \",round(fourthmodel_testscore[1],2))\n"
   ]
  },
  {
   "cell_type": "markdown",
   "metadata": {
    "id": "2qNfDTxupFTp"
   },
   "source": [
    "From the score that we have obtained above, we are still seeing overfitting on the training set as compared to the validation and test set. We are going to attempt to improve the model with batch normalisation and increasing the nodes on the layers.\n"
   ]
  },
  {
   "cell_type": "code",
   "execution_count": null,
   "metadata": {
    "colab": {
     "base_uri": "https://localhost:8080/",
     "height": 253
    },
    "executionInfo": {
     "elapsed": 350,
     "status": "error",
     "timestamp": 1700727501296,
     "user": {
      "displayName": "calvin poh",
      "userId": "01610010728414180948"
     },
     "user_tz": -480
    },
    "id": "PiS7-ZZ8Gty9",
    "outputId": "fd4df69d-65d2-4691-ca21-5fdd44604ae9"
   },
   "outputs": [
    {
     "name": "stdout",
     "output_type": "stream",
     "text": [
      "mixed\n"
     ]
    },
    {
     "ename": "TypeError",
     "evalue": "ignored",
     "output_type": "error",
     "traceback": [
      "\u001b[0;31m---------------------------------------------------------------------------\u001b[0m",
      "\u001b[0;31mTypeError\u001b[0m                                 Traceback (most recent call last)",
      "\u001b[0;32m<ipython-input-17-4287fd1ece6f>\u001b[0m in \u001b[0;36m<cell line: 9>\u001b[0;34m()\u001b[0m\n\u001b[1;32m      9\u001b[0m \u001b[0;32mfor\u001b[0m \u001b[0mclasspath\u001b[0m \u001b[0;32min\u001b[0m \u001b[0mfilepaths\u001b[0m\u001b[0;34m:\u001b[0m\u001b[0;34m\u001b[0m\u001b[0;34m\u001b[0m\u001b[0m\n\u001b[1;32m     10\u001b[0m   \u001b[0mprint\u001b[0m\u001b[0;34m(\u001b[0m\u001b[0mclasspath\u001b[0m\u001b[0;34m)\u001b[0m\u001b[0;34m\u001b[0m\u001b[0;34m\u001b[0m\u001b[0m\n\u001b[0;32m---> 11\u001b[0;31m   \u001b[0mnum_images\u001b[0m \u001b[0;34m=\u001b[0m \u001b[0mlen\u001b[0m\u001b[0;34m(\u001b[0m\u001b[0mos\u001b[0m\u001b[0;34m.\u001b[0m\u001b[0mlistdir\u001b[0m\u001b[0;34m(\u001b[0m\u001b[0mfilepaths\u001b[0m \u001b[0;34m+\u001b[0m \u001b[0;34mf\"/{classpath}\"\u001b[0m\u001b[0;34m)\u001b[0m\u001b[0;34m)\u001b[0m\u001b[0;34m\u001b[0m\u001b[0;34m\u001b[0m\u001b[0m\n\u001b[0m\u001b[1;32m     12\u001b[0m   \u001b[0mimagecount\u001b[0m\u001b[0;34m.\u001b[0m\u001b[0mappend\u001b[0m\u001b[0;34m(\u001b[0m\u001b[0mnum_images\u001b[0m\u001b[0;34m)\u001b[0m\u001b[0;34m\u001b[0m\u001b[0;34m\u001b[0m\u001b[0m\n",
      "\u001b[0;31mTypeError\u001b[0m: can only concatenate list (not \"str\") to list"
     ]
    }
   ],
   "source": [
    "import os\n",
    "import re\n",
    "\n",
    "filepaths = os.listdir(\"/content/drive/Othercomputers/New Desktop/NUS ISS/Sem 2/Machine Learning/09 Team Project/additional_train_sorted\")\n",
    "\n",
    "pattern = r\"^[^_]*\"\n",
    "imagecount = {\"apple\": 0,\"banana\": 0,\"orange\": 0, \"mixed\": 0}\n",
    "for classpath in filepaths:\n",
    "  num_images = os.listdir(filepaths + f\"/{classpath}\")\n",
    "  imagecount[classpath] = len(num_images)"
   ]
  },
  {
   "cell_type": "markdown",
   "metadata": {},
   "source": [
    "### Fifth model"
   ]
  },
  {
   "cell_type": "code",
   "execution_count": 128,
   "metadata": {},
   "outputs": [],
   "source": [
    "from tensorflow.keras.preprocessing.image import img_to_array, load_img\n",
    "\n",
    "# Defining our augmentation parameters\n",
    "augmenteddatagen = ImageDataGenerator(\n",
    "    rescale=1./255,\n",
    "    rotation_range=20,\n",
    "    width_shift_range=0.1,\n",
    "    height_shift_range=0.1,\n",
    "    shear_range=0.1,\n",
    "    zoom_range=0.1,\n",
    "    horizontal_flip=True,\n",
    "    vertical_flip=False,\n",
    "    fill_mode='nearest'\n",
    ")\n",
    "\n",
    "trainingpath = \"train_sorted (augmented)\"\n",
    "classes = os.listdir(trainingpath)\n",
    "\n",
    "num_images_per_class = {\n",
    "    'apple': 5,\n",
    "    'banana': 5,\n",
    "    'orange': 5,\n",
    "    'mixed': 15 \n",
    "}\n",
    "\n",
    "def augment_images(class_name, num_augmented_images):\n",
    "    class_dir = os.path.join(trainingpath, class_name)\n",
    "    for file in os.listdir(class_dir):\n",
    "        if file.endswith(('.png', '.jpg', '.jpeg')):  \n",
    "            file_path = os.path.join(class_dir, file)\n",
    "            img = load_img(file_path)\n",
    "            img_array = img_to_array(img)\n",
    "            img_array = img_array.reshape((1,) + img_array.shape)\n",
    "\n",
    "            # Generate and save the augmented images\n",
    "            i = 0\n",
    "            for batch in augmenteddatagen.flow(img_array, batch_size=1, save_to_dir=class_dir, save_prefix=class_name, save_format='jpeg'):\n",
    "                i += 1\n",
    "                if i >= num_augmented_images:\n",
    "                    break  # Break after generating the required number of images"
   ]
  },
  {
   "cell_type": "code",
   "execution_count": 129,
   "metadata": {},
   "outputs": [
    {
     "name": "stdout",
     "output_type": "stream",
     "text": [
      "Augmenting images for class: apple\n"
     ]
    },
    {
     "name": "stderr",
     "output_type": "stream",
     "text": [
      "c:\\Users\\calvi\\anaconda3\\envs\\tensorflowgpu\\lib\\site-packages\\PIL\\Image.py:996: UserWarning: Palette images with Transparency expressed in bytes should be converted to RGBA images\n",
      "  warnings.warn(\n"
     ]
    },
    {
     "name": "stdout",
     "output_type": "stream",
     "text": [
      "Augmenting images for class: banana\n",
      "Augmenting images for class: mixed\n",
      "Augmenting images for class: orange\n"
     ]
    }
   ],
   "source": [
    "# Loop through the classes and augment images\n",
    "for class_name in classes:\n",
    "    print(f'Augmenting images for class: {class_name}')\n",
    "    augment_images(class_name, num_images_per_class[class_name])"
   ]
  },
  {
   "cell_type": "code",
   "execution_count": 106,
   "metadata": {},
   "outputs": [],
   "source": [
    "import os\n",
    "import re\n",
    "\n",
    "filepaths = os.listdir(\"additional_train_sorted\")\n",
    "\n",
    "imagecount = {\"apple\": 0,\"banana\": 0,\"orange\": 0, \"mixed\": 0}\n",
    "for classpath in filepaths:\n",
    "  num_images = os.listdir(\"additional_train_sorted/\" + classpath)\n",
    "  imagecount[classpath] = len(num_images)"
   ]
  },
  {
   "cell_type": "code",
   "execution_count": 107,
   "metadata": {},
   "outputs": [
    {
     "data": {
      "text/plain": [
       "{'apple': 1741, 'banana': 1637, 'orange': 1547, 'mixed': 626}"
      ]
     },
     "execution_count": 107,
     "metadata": {},
     "output_type": "execute_result"
    }
   ],
   "source": [
    "imagecount"
   ]
  },
  {
   "cell_type": "markdown",
   "metadata": {},
   "source": [
    "Using the newly augmented dataset"
   ]
  },
  {
   "cell_type": "code",
   "execution_count": 12,
   "metadata": {},
   "outputs": [
    {
     "name": "stdout",
     "output_type": "stream",
     "text": [
      "Found 193 images belonging to 4 classes.\n",
      "Found 47 images belonging to 4 classes.\n"
     ]
    }
   ],
   "source": [
    "# Inputing images using ImageDataGenerator without augmentation to get baseline\n",
    "datagen = ImageDataGenerator(\n",
    "    validation_split=0.2\n",
    ")\n",
    "\n",
    "\n",
    "trainDataSet = trainDataSet = datagen.flow_from_directory(\n",
    "    target_size=(image_height, image_width),\n",
    "    directory=\"train_sorted\",\n",
    "    subset = \"training\",\n",
    "    class_mode = \"categorical\",\n",
    "    shuffle = True,\n",
    "    batch_size = 32\n",
    ")\n",
    "\n",
    "validDataSet = validDataSet = datagen.flow_from_directory(\n",
    "    target_size=(image_height, image_width),\n",
    "    directory=\"train_sorted\",\n",
    "    subset = \"validation\",\n",
    "    class_mode = \"categorical\",\n",
    "    shuffle = True,\n",
    "    batch_size = 32\n",
    ")\n",
    "\n",
    "\n"
   ]
  },
  {
   "cell_type": "code",
   "execution_count": 142,
   "metadata": {
    "id": "1OHd4uRllIzT"
   },
   "outputs": [],
   "source": [
    "# Adding batch normalisation to further reduce overfitting\n",
    "fifthmodel = Sequential()\n",
    "\n",
    "fifthmodel.add(Conv2D(32, (2, 2), activation='relu', padding='same', input_shape=(image_height, image_width, 3)))\n",
    "fifthmodel.add(BatchNormalization())\n",
    "fifthmodel.add(MaxPooling2D(pool_size=(2, 2), strides=2))\n",
    "fifthmodel.add(Dropout(0.15))\n",
    "fifthmodel.add(Conv2D(64, (3, 3), activation='relu', padding='same'))\n",
    "fifthmodel.add(BatchNormalization())\n",
    "fifthmodel.add(MaxPooling2D(pool_size=(2, 2), strides=2))\n",
    "fifthmodel.add(Dropout(0.15))\n",
    "fifthmodel.add(Conv2D(128, (3, 3), activation='relu', padding='same'))\n",
    "fifthmodel.add(BatchNormalization())\n",
    "fifthmodel.add(MaxPooling2D(pool_size=(2, 2), strides=2))\n",
    "fifthmodel.add(Dropout(0.15))\n",
    "\n",
    "\n",
    "fifthmodel.add(Flatten())\n",
    "\n",
    "# FC layer\n",
    "fifthmodel.add(Dense(64, kernel_regularizer=l2(0.01), bias_regularizer=l2(0.01), activation='relu'))\n",
    "fifthmodel.add(Dropout(0.25))\n",
    "\n",
    "fifthmodel.add(Dense(num_classes, activation='softmax'))\n",
    "\n",
    "# Compile the model\n",
    "fifthmodel.compile(optimizer=Adam(learning_rate=0.001),\n",
    "                    loss='categorical_crossentropy',\n",
    "                    metrics=['accuracy'])"
   ]
  },
  {
   "cell_type": "code",
   "execution_count": 143,
   "metadata": {
    "id": "gHk4cYIZOhx7",
    "tags": []
   },
   "outputs": [
    {
     "name": "stdout",
     "output_type": "stream",
     "text": [
      "Epoch 1/50\n",
      "40/40 [==============================] - 9s 208ms/step - loss: 7.3948 - accuracy: 0.6913 - val_loss: 8.1914 - val_accuracy: 0.3438\n",
      "Epoch 2/50\n",
      "40/40 [==============================] - 8s 198ms/step - loss: 3.5467 - accuracy: 0.8266 - val_loss: 3.4479 - val_accuracy: 0.7344\n",
      "Epoch 3/50\n",
      "40/40 [==============================] - 8s 204ms/step - loss: 3.2014 - accuracy: 0.8520 - val_loss: 12.3839 - val_accuracy: 0.4969\n",
      "Epoch 4/50\n",
      "40/40 [==============================] - 8s 204ms/step - loss: 2.6139 - accuracy: 0.8536 - val_loss: 2.8720 - val_accuracy: 0.8188\n",
      "Epoch 5/50\n",
      "40/40 [==============================] - 8s 205ms/step - loss: 2.1441 - accuracy: 0.8878 - val_loss: 2.4975 - val_accuracy: 0.8875\n",
      "Epoch 6/50\n",
      "40/40 [==============================] - 8s 209ms/step - loss: 1.9801 - accuracy: 0.8870 - val_loss: 3.4659 - val_accuracy: 0.8438\n",
      "Epoch 7/50\n",
      "40/40 [==============================] - 8s 205ms/step - loss: 1.8899 - accuracy: 0.8807 - val_loss: 2.4780 - val_accuracy: 0.8594\n",
      "Epoch 8/50\n",
      "40/40 [==============================] - 8s 204ms/step - loss: 1.6944 - accuracy: 0.8990 - val_loss: 1.5297 - val_accuracy: 0.9406\n",
      "Epoch 9/50\n",
      "40/40 [==============================] - 8s 201ms/step - loss: 1.8059 - accuracy: 0.9045 - val_loss: 2.2550 - val_accuracy: 0.8594\n",
      "Epoch 10/50\n",
      "40/40 [==============================] - 8s 201ms/step - loss: 1.9298 - accuracy: 0.8727 - val_loss: 2.4293 - val_accuracy: 0.8625\n",
      "Epoch 11/50\n",
      "40/40 [==============================] - 8s 201ms/step - loss: 1.8504 - accuracy: 0.8894 - val_loss: 1.7582 - val_accuracy: 0.9094\n",
      "Epoch 12/50\n",
      "40/40 [==============================] - 8s 198ms/step - loss: 1.6245 - accuracy: 0.8743 - val_loss: 11.6338 - val_accuracy: 0.6344\n",
      "Epoch 13/50\n",
      "40/40 [==============================] - 8s 201ms/step - loss: 1.6718 - accuracy: 0.8990 - val_loss: 2.4398 - val_accuracy: 0.7875\n",
      "Epoch 14/50\n",
      "40/40 [==============================] - 8s 201ms/step - loss: 1.8274 - accuracy: 0.9021 - val_loss: 2.6573 - val_accuracy: 0.7469\n",
      "Epoch 15/50\n",
      "40/40 [==============================] - 8s 200ms/step - loss: 2.6455 - accuracy: 0.8656 - val_loss: 3.5780 - val_accuracy: 0.8438\n",
      "Epoch 16/50\n",
      "40/40 [==============================] - 8s 203ms/step - loss: 3.4148 - accuracy: 0.8727 - val_loss: 3.0819 - val_accuracy: 0.8687\n",
      "Epoch 17/50\n",
      "40/40 [==============================] - 8s 201ms/step - loss: 2.8201 - accuracy: 0.8982 - val_loss: 2.8238 - val_accuracy: 0.8656\n",
      "Epoch 18/50\n",
      "40/40 [==============================] - 8s 201ms/step - loss: 2.8871 - accuracy: 0.8918 - val_loss: 2.4791 - val_accuracy: 0.9219\n",
      "Epoch 19/50\n",
      "40/40 [==============================] - 8s 200ms/step - loss: 2.3966 - accuracy: 0.9077 - val_loss: 3.6360 - val_accuracy: 0.8219\n",
      "Epoch 20/50\n",
      "40/40 [==============================] - 8s 200ms/step - loss: 2.2270 - accuracy: 0.8648 - val_loss: 2.5098 - val_accuracy: 0.8750\n",
      "Epoch 21/50\n",
      "40/40 [==============================] - 8s 199ms/step - loss: 1.8811 - accuracy: 0.8942 - val_loss: 1.6937 - val_accuracy: 0.9344\n",
      "Epoch 22/50\n",
      "40/40 [==============================] - 8s 199ms/step - loss: 2.0743 - accuracy: 0.9093 - val_loss: 2.1246 - val_accuracy: 0.9281\n",
      "Epoch 23/50\n",
      "40/40 [==============================] - 8s 204ms/step - loss: 1.8218 - accuracy: 0.9284 - val_loss: 1.7096 - val_accuracy: 0.9500\n",
      "Epoch 24/50\n",
      "40/40 [==============================] - 8s 201ms/step - loss: 1.6726 - accuracy: 0.9204 - val_loss: 1.5393 - val_accuracy: 0.9344\n",
      "Epoch 25/50\n",
      "40/40 [==============================] - 8s 202ms/step - loss: 1.4157 - accuracy: 0.9340 - val_loss: 1.2054 - val_accuracy: 0.9531\n",
      "Epoch 26/50\n",
      "40/40 [==============================] - 8s 203ms/step - loss: 1.1661 - accuracy: 0.9268 - val_loss: 0.8852 - val_accuracy: 0.9719\n",
      "Epoch 27/50\n",
      "40/40 [==============================] - 8s 205ms/step - loss: 1.0281 - accuracy: 0.9268 - val_loss: 0.8662 - val_accuracy: 0.9469\n",
      "Epoch 28/50\n",
      "40/40 [==============================] - 8s 201ms/step - loss: 0.8758 - accuracy: 0.9276 - val_loss: 0.8323 - val_accuracy: 0.9281\n",
      "Epoch 29/50\n",
      "40/40 [==============================] - 8s 201ms/step - loss: 0.7388 - accuracy: 0.9403 - val_loss: 0.5759 - val_accuracy: 0.9812\n",
      "Epoch 30/50\n",
      "40/40 [==============================] - 8s 205ms/step - loss: 0.6519 - accuracy: 0.9483 - val_loss: 0.6911 - val_accuracy: 0.9344\n",
      "Epoch 31/50\n",
      "40/40 [==============================] - 8s 207ms/step - loss: 1.0066 - accuracy: 0.9244 - val_loss: 0.9784 - val_accuracy: 0.9375\n",
      "Epoch 32/50\n",
      "40/40 [==============================] - 8s 208ms/step - loss: 1.0402 - accuracy: 0.9165 - val_loss: 0.9133 - val_accuracy: 0.9656\n",
      "Epoch 33/50\n",
      "40/40 [==============================] - 8s 204ms/step - loss: 1.0836 - accuracy: 0.9173 - val_loss: 1.2267 - val_accuracy: 0.9094\n",
      "Epoch 34/50\n",
      "40/40 [==============================] - 8s 205ms/step - loss: 1.2197 - accuracy: 0.9316 - val_loss: 3.3623 - val_accuracy: 0.6969\n",
      "Epoch 35/50\n",
      "40/40 [==============================] - 8s 203ms/step - loss: 1.4811 - accuracy: 0.9236 - val_loss: 1.6794 - val_accuracy: 0.9000\n",
      "Epoch 36/50\n",
      "40/40 [==============================] - 8s 202ms/step - loss: 1.6852 - accuracy: 0.9014 - val_loss: 2.2000 - val_accuracy: 0.8938\n",
      "Epoch 37/50\n",
      "40/40 [==============================] - 8s 204ms/step - loss: 1.8887 - accuracy: 0.9053 - val_loss: 2.7296 - val_accuracy: 0.7781\n",
      "Epoch 38/50\n",
      "40/40 [==============================] - 8s 203ms/step - loss: 1.5158 - accuracy: 0.9244 - val_loss: 1.4285 - val_accuracy: 0.8969\n",
      "Epoch 39/50\n",
      "40/40 [==============================] - 8s 205ms/step - loss: 1.3071 - accuracy: 0.9348 - val_loss: 1.1775 - val_accuracy: 0.9563\n",
      "Epoch 40/50\n",
      "40/40 [==============================] - 8s 200ms/step - loss: 1.1524 - accuracy: 0.9189 - val_loss: 1.5896 - val_accuracy: 0.8687\n",
      "Epoch 41/50\n",
      "40/40 [==============================] - 8s 201ms/step - loss: 1.0246 - accuracy: 0.9340 - val_loss: 1.0302 - val_accuracy: 0.9344\n",
      "Epoch 42/50\n",
      "40/40 [==============================] - 8s 203ms/step - loss: 0.9356 - accuracy: 0.9359 - val_loss: 1.0369 - val_accuracy: 0.9469\n",
      "Epoch 43/50\n",
      "40/40 [==============================] - 8s 200ms/step - loss: 0.7350 - accuracy: 0.9491 - val_loss: 0.8667 - val_accuracy: 0.9406\n",
      "Epoch 44/50\n",
      "40/40 [==============================] - 8s 196ms/step - loss: 0.6887 - accuracy: 0.9403 - val_loss: 0.7804 - val_accuracy: 0.9563\n",
      "Epoch 45/50\n",
      "40/40 [==============================] - 8s 202ms/step - loss: 1.0894 - accuracy: 0.8990 - val_loss: 1.3109 - val_accuracy: 0.8844\n",
      "Epoch 46/50\n",
      "40/40 [==============================] - 8s 198ms/step - loss: 1.2490 - accuracy: 0.9077 - val_loss: 1.1898 - val_accuracy: 0.9187\n",
      "Epoch 47/50\n",
      "40/40 [==============================] - 8s 201ms/step - loss: 1.1390 - accuracy: 0.9276 - val_loss: 2.1424 - val_accuracy: 0.7500\n",
      "Epoch 48/50\n",
      "40/40 [==============================] - 8s 197ms/step - loss: 1.7772 - accuracy: 0.9157 - val_loss: 1.6437 - val_accuracy: 0.9812\n",
      "Epoch 49/50\n",
      "40/40 [==============================] - 8s 199ms/step - loss: 1.5808 - accuracy: 0.9411 - val_loss: 1.2926 - val_accuracy: 0.9750\n",
      "Epoch 50/50\n",
      "40/40 [==============================] - 8s 197ms/step - loss: 1.2963 - accuracy: 0.9403 - val_loss: 1.0607 - val_accuracy: 0.9719\n"
     ]
    }
   ],
   "source": [
    "num_epochs = 50\n",
    "with tf.device('/GPU:0'):\n",
    "    history = fifthmodel.fit(\n",
    "        trainDataSet,\n",
    "        steps_per_epoch = trainDataSet.samples // trainDataSet.batch_size,\n",
    "        epochs = num_epochs,\n",
    "        validation_data = validDataSet,\n",
    "        validation_steps = validDataSet.samples // validDataSet.batch_size,\n",
    "        verbose = 1\n",
    "    )"
   ]
  },
  {
   "cell_type": "code",
   "execution_count": 146,
   "metadata": {},
   "outputs": [
    {
     "name": "stdout",
     "output_type": "stream",
     "text": [
      "40/40 [==============================] - 7s 161ms/step - loss: 1.0334 - accuracy: 0.9852\n",
      "10/10 [==============================] - 1s 131ms/step - loss: 1.0607 - accuracy: 0.9719\n",
      "60/60 [==============================] - 0s 8ms/step - loss: 5.2150 - accuracy: 0.3000\n"
     ]
    }
   ],
   "source": [
    "fifthhmodel_trainscore = fifthmodel.evaluate(trainDataSet,steps=trainDataSet.samples // trainDataSet.batch_size)\n",
    "fifthhmodel_validationscore = fifthmodel.evaluate(validDataSet,steps=validDataSet.samples // validDataSet.batch_size)\n",
    "fifthhmodel_testscore = fifthmodel.evaluate(test_generator,steps=test_generator.samples // test_generator.batch_size)"
   ]
  },
  {
   "cell_type": "code",
   "execution_count": 145,
   "metadata": {},
   "outputs": [
    {
     "name": "stdout",
     "output_type": "stream",
     "text": [
      "The base model accuracy score for the train:  0.99\n",
      "The base model accuracy score for the validation:  0.97\n",
      "======================================================\n",
      "The base model accuracy score for the test:  0.3\n"
     ]
    }
   ],
   "source": [
    "print(\"The base model accuracy score for the train: \",round(fifthhmodel_trainscore[1],2))\n",
    "print(\"The base model accuracy score for the validation: \",round(fifthhmodel_validationscore[1],2))\n",
    "print(\"======================================================\")\n",
    "print(\"The base model accuracy score for the test: \",round(fifthhmodel_testscore[1],2))"
   ]
  },
  {
   "cell_type": "markdown",
   "metadata": {},
   "source": [
    "As we can see, the model is doing really badly on test set even after augmenting the images. We attempt to check what are the images that the model is not predicting correct for error analysis"
   ]
  },
  {
   "cell_type": "code",
   "execution_count": 41,
   "metadata": {},
   "outputs": [
    {
     "name": "stdout",
     "output_type": "stream",
     "text": [
      "60/60 [==============================] - 1s 10ms/step\n"
     ]
    }
   ],
   "source": [
    "fifthmodel_predictions = fifthmodel.predict(test_generator,steps=test_generator.samples // test_generator.batch_size)"
   ]
  },
  {
   "cell_type": "code",
   "execution_count": 92,
   "metadata": {},
   "outputs": [],
   "source": [
    "def generatePredictionDF(test_generator,model):\n",
    "    classpredictions = model.predict(test_generator,steps = test_generator.samples // test_generator.batch_size)\n",
    "    predicted_classes = classpredictions.argmax(axis=1)\n",
    "    true_classes = test_generator.classes\n",
    "    checkprediction = predicted_classes != true_classes\n",
    "\n",
    "    #Generate Pandas Dataframe \n",
    "    df = pd.DataFrame({\"filepaths\": test_generator.filepaths, \"trueclass\": true_classes,\"predicted\": predicted_classes ,\"Correctly Predicted\": checkprediction})\n",
    "    return df"
   ]
  },
  {
   "cell_type": "code",
   "execution_count": 93,
   "metadata": {},
   "outputs": [
    {
     "name": "stdout",
     "output_type": "stream",
     "text": [
      "60/60 [==============================] - 1s 10ms/step\n"
     ]
    }
   ],
   "source": [
    "predictions = generatePredictionDF(test_generator,fifthmodel)"
   ]
  },
  {
   "cell_type": "code",
   "execution_count": 94,
   "metadata": {},
   "outputs": [
    {
     "data": {
      "text/html": [
       "<div>\n",
       "<style scoped>\n",
       "    .dataframe tbody tr th:only-of-type {\n",
       "        vertical-align: middle;\n",
       "    }\n",
       "\n",
       "    .dataframe tbody tr th {\n",
       "        vertical-align: top;\n",
       "    }\n",
       "\n",
       "    .dataframe thead th {\n",
       "        text-align: right;\n",
       "    }\n",
       "</style>\n",
       "<table border=\"1\" class=\"dataframe\">\n",
       "  <thead>\n",
       "    <tr style=\"text-align: right;\">\n",
       "      <th></th>\n",
       "      <th>filepaths</th>\n",
       "      <th>trueclass</th>\n",
       "      <th>predicted</th>\n",
       "      <th>Correctly Predicted</th>\n",
       "    </tr>\n",
       "  </thead>\n",
       "  <tbody>\n",
       "    <tr>\n",
       "      <th>0</th>\n",
       "      <td>test_sorted\\apple\\apple_77.jpg</td>\n",
       "      <td>0</td>\n",
       "      <td>0</td>\n",
       "      <td>False</td>\n",
       "    </tr>\n",
       "    <tr>\n",
       "      <th>1</th>\n",
       "      <td>test_sorted\\apple\\apple_78.jpg</td>\n",
       "      <td>0</td>\n",
       "      <td>3</td>\n",
       "      <td>True</td>\n",
       "    </tr>\n",
       "    <tr>\n",
       "      <th>2</th>\n",
       "      <td>test_sorted\\apple\\apple_79.jpg</td>\n",
       "      <td>0</td>\n",
       "      <td>1</td>\n",
       "      <td>True</td>\n",
       "    </tr>\n",
       "    <tr>\n",
       "      <th>3</th>\n",
       "      <td>test_sorted\\apple\\apple_80.jpg</td>\n",
       "      <td>0</td>\n",
       "      <td>0</td>\n",
       "      <td>False</td>\n",
       "    </tr>\n",
       "    <tr>\n",
       "      <th>4</th>\n",
       "      <td>test_sorted\\apple\\apple_81.jpg</td>\n",
       "      <td>0</td>\n",
       "      <td>0</td>\n",
       "      <td>False</td>\n",
       "    </tr>\n",
       "    <tr>\n",
       "      <th>5</th>\n",
       "      <td>test_sorted\\apple\\apple_82.jpg</td>\n",
       "      <td>0</td>\n",
       "      <td>0</td>\n",
       "      <td>False</td>\n",
       "    </tr>\n",
       "    <tr>\n",
       "      <th>6</th>\n",
       "      <td>test_sorted\\apple\\apple_83.jpg</td>\n",
       "      <td>0</td>\n",
       "      <td>0</td>\n",
       "      <td>False</td>\n",
       "    </tr>\n",
       "    <tr>\n",
       "      <th>7</th>\n",
       "      <td>test_sorted\\apple\\apple_84.jpg</td>\n",
       "      <td>0</td>\n",
       "      <td>3</td>\n",
       "      <td>True</td>\n",
       "    </tr>\n",
       "    <tr>\n",
       "      <th>8</th>\n",
       "      <td>test_sorted\\apple\\apple_85.jpg</td>\n",
       "      <td>0</td>\n",
       "      <td>0</td>\n",
       "      <td>False</td>\n",
       "    </tr>\n",
       "    <tr>\n",
       "      <th>9</th>\n",
       "      <td>test_sorted\\apple\\apple_86.jpg</td>\n",
       "      <td>0</td>\n",
       "      <td>0</td>\n",
       "      <td>False</td>\n",
       "    </tr>\n",
       "    <tr>\n",
       "      <th>10</th>\n",
       "      <td>test_sorted\\apple\\apple_87.jpg</td>\n",
       "      <td>0</td>\n",
       "      <td>0</td>\n",
       "      <td>False</td>\n",
       "    </tr>\n",
       "    <tr>\n",
       "      <th>11</th>\n",
       "      <td>test_sorted\\apple\\apple_88.jpg</td>\n",
       "      <td>0</td>\n",
       "      <td>3</td>\n",
       "      <td>True</td>\n",
       "    </tr>\n",
       "    <tr>\n",
       "      <th>12</th>\n",
       "      <td>test_sorted\\apple\\apple_89.jpg</td>\n",
       "      <td>0</td>\n",
       "      <td>0</td>\n",
       "      <td>False</td>\n",
       "    </tr>\n",
       "    <tr>\n",
       "      <th>13</th>\n",
       "      <td>test_sorted\\apple\\apple_90.jpg</td>\n",
       "      <td>0</td>\n",
       "      <td>0</td>\n",
       "      <td>False</td>\n",
       "    </tr>\n",
       "    <tr>\n",
       "      <th>14</th>\n",
       "      <td>test_sorted\\apple\\apple_91.jpg</td>\n",
       "      <td>0</td>\n",
       "      <td>3</td>\n",
       "      <td>True</td>\n",
       "    </tr>\n",
       "    <tr>\n",
       "      <th>15</th>\n",
       "      <td>test_sorted\\apple\\apple_92.jpg</td>\n",
       "      <td>0</td>\n",
       "      <td>3</td>\n",
       "      <td>True</td>\n",
       "    </tr>\n",
       "    <tr>\n",
       "      <th>16</th>\n",
       "      <td>test_sorted\\apple\\apple_93.jpg</td>\n",
       "      <td>0</td>\n",
       "      <td>0</td>\n",
       "      <td>False</td>\n",
       "    </tr>\n",
       "    <tr>\n",
       "      <th>17</th>\n",
       "      <td>test_sorted\\apple\\apple_94.jpg</td>\n",
       "      <td>0</td>\n",
       "      <td>3</td>\n",
       "      <td>True</td>\n",
       "    </tr>\n",
       "    <tr>\n",
       "      <th>18</th>\n",
       "      <td>test_sorted\\apple\\apple_95.jpg</td>\n",
       "      <td>0</td>\n",
       "      <td>3</td>\n",
       "      <td>True</td>\n",
       "    </tr>\n",
       "    <tr>\n",
       "      <th>19</th>\n",
       "      <td>test_sorted\\banana\\banana_77.jpg</td>\n",
       "      <td>1</td>\n",
       "      <td>0</td>\n",
       "      <td>True</td>\n",
       "    </tr>\n",
       "    <tr>\n",
       "      <th>20</th>\n",
       "      <td>test_sorted\\banana\\banana_78.jpg</td>\n",
       "      <td>1</td>\n",
       "      <td>0</td>\n",
       "      <td>True</td>\n",
       "    </tr>\n",
       "    <tr>\n",
       "      <th>21</th>\n",
       "      <td>test_sorted\\banana\\banana_79.jpg</td>\n",
       "      <td>1</td>\n",
       "      <td>0</td>\n",
       "      <td>True</td>\n",
       "    </tr>\n",
       "    <tr>\n",
       "      <th>22</th>\n",
       "      <td>test_sorted\\banana\\banana_80.jpg</td>\n",
       "      <td>1</td>\n",
       "      <td>0</td>\n",
       "      <td>True</td>\n",
       "    </tr>\n",
       "    <tr>\n",
       "      <th>23</th>\n",
       "      <td>test_sorted\\banana\\banana_81.jpg</td>\n",
       "      <td>1</td>\n",
       "      <td>3</td>\n",
       "      <td>True</td>\n",
       "    </tr>\n",
       "    <tr>\n",
       "      <th>24</th>\n",
       "      <td>test_sorted\\banana\\banana_82.jpg</td>\n",
       "      <td>1</td>\n",
       "      <td>0</td>\n",
       "      <td>True</td>\n",
       "    </tr>\n",
       "    <tr>\n",
       "      <th>25</th>\n",
       "      <td>test_sorted\\banana\\banana_83.jpg</td>\n",
       "      <td>1</td>\n",
       "      <td>1</td>\n",
       "      <td>False</td>\n",
       "    </tr>\n",
       "    <tr>\n",
       "      <th>26</th>\n",
       "      <td>test_sorted\\banana\\banana_84.jpg</td>\n",
       "      <td>1</td>\n",
       "      <td>0</td>\n",
       "      <td>True</td>\n",
       "    </tr>\n",
       "    <tr>\n",
       "      <th>27</th>\n",
       "      <td>test_sorted\\banana\\banana_85.jpg</td>\n",
       "      <td>1</td>\n",
       "      <td>0</td>\n",
       "      <td>True</td>\n",
       "    </tr>\n",
       "    <tr>\n",
       "      <th>28</th>\n",
       "      <td>test_sorted\\banana\\banana_86.jpg</td>\n",
       "      <td>1</td>\n",
       "      <td>3</td>\n",
       "      <td>True</td>\n",
       "    </tr>\n",
       "    <tr>\n",
       "      <th>29</th>\n",
       "      <td>test_sorted\\banana\\banana_87.jpg</td>\n",
       "      <td>1</td>\n",
       "      <td>3</td>\n",
       "      <td>True</td>\n",
       "    </tr>\n",
       "    <tr>\n",
       "      <th>30</th>\n",
       "      <td>test_sorted\\banana\\banana_88.jpg</td>\n",
       "      <td>1</td>\n",
       "      <td>1</td>\n",
       "      <td>False</td>\n",
       "    </tr>\n",
       "    <tr>\n",
       "      <th>31</th>\n",
       "      <td>test_sorted\\banana\\banana_89.jpg</td>\n",
       "      <td>1</td>\n",
       "      <td>3</td>\n",
       "      <td>True</td>\n",
       "    </tr>\n",
       "    <tr>\n",
       "      <th>32</th>\n",
       "      <td>test_sorted\\banana\\banana_90.jpg</td>\n",
       "      <td>1</td>\n",
       "      <td>0</td>\n",
       "      <td>True</td>\n",
       "    </tr>\n",
       "    <tr>\n",
       "      <th>33</th>\n",
       "      <td>test_sorted\\banana\\banana_91.jpg</td>\n",
       "      <td>1</td>\n",
       "      <td>0</td>\n",
       "      <td>True</td>\n",
       "    </tr>\n",
       "    <tr>\n",
       "      <th>34</th>\n",
       "      <td>test_sorted\\banana\\banana_92.jpg</td>\n",
       "      <td>1</td>\n",
       "      <td>0</td>\n",
       "      <td>True</td>\n",
       "    </tr>\n",
       "    <tr>\n",
       "      <th>35</th>\n",
       "      <td>test_sorted\\banana\\banana_93.jpg</td>\n",
       "      <td>1</td>\n",
       "      <td>1</td>\n",
       "      <td>False</td>\n",
       "    </tr>\n",
       "    <tr>\n",
       "      <th>36</th>\n",
       "      <td>test_sorted\\banana\\banana_94.jpg</td>\n",
       "      <td>1</td>\n",
       "      <td>0</td>\n",
       "      <td>True</td>\n",
       "    </tr>\n",
       "    <tr>\n",
       "      <th>37</th>\n",
       "      <td>test_sorted\\mixed\\mixed_21.jpg</td>\n",
       "      <td>2</td>\n",
       "      <td>3</td>\n",
       "      <td>True</td>\n",
       "    </tr>\n",
       "    <tr>\n",
       "      <th>38</th>\n",
       "      <td>test_sorted\\mixed\\mixed_22.jpg</td>\n",
       "      <td>2</td>\n",
       "      <td>0</td>\n",
       "      <td>True</td>\n",
       "    </tr>\n",
       "    <tr>\n",
       "      <th>39</th>\n",
       "      <td>test_sorted\\mixed\\mixed_23.jpg</td>\n",
       "      <td>2</td>\n",
       "      <td>3</td>\n",
       "      <td>True</td>\n",
       "    </tr>\n",
       "    <tr>\n",
       "      <th>40</th>\n",
       "      <td>test_sorted\\mixed\\mixed_24.jpg</td>\n",
       "      <td>2</td>\n",
       "      <td>0</td>\n",
       "      <td>True</td>\n",
       "    </tr>\n",
       "    <tr>\n",
       "      <th>41</th>\n",
       "      <td>test_sorted\\mixed\\mixed_25.jpg</td>\n",
       "      <td>2</td>\n",
       "      <td>0</td>\n",
       "      <td>True</td>\n",
       "    </tr>\n",
       "    <tr>\n",
       "      <th>42</th>\n",
       "      <td>test_sorted\\orange\\orange_77.jpg</td>\n",
       "      <td>3</td>\n",
       "      <td>3</td>\n",
       "      <td>False</td>\n",
       "    </tr>\n",
       "    <tr>\n",
       "      <th>43</th>\n",
       "      <td>test_sorted\\orange\\orange_78.jpg</td>\n",
       "      <td>3</td>\n",
       "      <td>3</td>\n",
       "      <td>False</td>\n",
       "    </tr>\n",
       "    <tr>\n",
       "      <th>44</th>\n",
       "      <td>test_sorted\\orange\\orange_79.jpg</td>\n",
       "      <td>3</td>\n",
       "      <td>3</td>\n",
       "      <td>False</td>\n",
       "    </tr>\n",
       "    <tr>\n",
       "      <th>45</th>\n",
       "      <td>test_sorted\\orange\\orange_80.jpg</td>\n",
       "      <td>3</td>\n",
       "      <td>3</td>\n",
       "      <td>False</td>\n",
       "    </tr>\n",
       "    <tr>\n",
       "      <th>46</th>\n",
       "      <td>test_sorted\\orange\\orange_81.jpg</td>\n",
       "      <td>3</td>\n",
       "      <td>3</td>\n",
       "      <td>False</td>\n",
       "    </tr>\n",
       "    <tr>\n",
       "      <th>47</th>\n",
       "      <td>test_sorted\\orange\\orange_82.jpg</td>\n",
       "      <td>3</td>\n",
       "      <td>3</td>\n",
       "      <td>False</td>\n",
       "    </tr>\n",
       "    <tr>\n",
       "      <th>48</th>\n",
       "      <td>test_sorted\\orange\\orange_83.jpg</td>\n",
       "      <td>3</td>\n",
       "      <td>3</td>\n",
       "      <td>False</td>\n",
       "    </tr>\n",
       "    <tr>\n",
       "      <th>49</th>\n",
       "      <td>test_sorted\\orange\\orange_84.jpg</td>\n",
       "      <td>3</td>\n",
       "      <td>3</td>\n",
       "      <td>False</td>\n",
       "    </tr>\n",
       "    <tr>\n",
       "      <th>50</th>\n",
       "      <td>test_sorted\\orange\\orange_85.jpg</td>\n",
       "      <td>3</td>\n",
       "      <td>3</td>\n",
       "      <td>False</td>\n",
       "    </tr>\n",
       "    <tr>\n",
       "      <th>51</th>\n",
       "      <td>test_sorted\\orange\\orange_86.jpg</td>\n",
       "      <td>3</td>\n",
       "      <td>0</td>\n",
       "      <td>True</td>\n",
       "    </tr>\n",
       "    <tr>\n",
       "      <th>52</th>\n",
       "      <td>test_sorted\\orange\\orange_87.jpg</td>\n",
       "      <td>3</td>\n",
       "      <td>3</td>\n",
       "      <td>False</td>\n",
       "    </tr>\n",
       "    <tr>\n",
       "      <th>53</th>\n",
       "      <td>test_sorted\\orange\\orange_89.jpg</td>\n",
       "      <td>3</td>\n",
       "      <td>1</td>\n",
       "      <td>True</td>\n",
       "    </tr>\n",
       "    <tr>\n",
       "      <th>54</th>\n",
       "      <td>test_sorted\\orange\\orange_90.jpg</td>\n",
       "      <td>3</td>\n",
       "      <td>3</td>\n",
       "      <td>False</td>\n",
       "    </tr>\n",
       "    <tr>\n",
       "      <th>55</th>\n",
       "      <td>test_sorted\\orange\\orange_91.jpg</td>\n",
       "      <td>3</td>\n",
       "      <td>3</td>\n",
       "      <td>False</td>\n",
       "    </tr>\n",
       "    <tr>\n",
       "      <th>56</th>\n",
       "      <td>test_sorted\\orange\\orange_92.jpg</td>\n",
       "      <td>3</td>\n",
       "      <td>3</td>\n",
       "      <td>False</td>\n",
       "    </tr>\n",
       "    <tr>\n",
       "      <th>57</th>\n",
       "      <td>test_sorted\\orange\\orange_93.jpg</td>\n",
       "      <td>3</td>\n",
       "      <td>3</td>\n",
       "      <td>False</td>\n",
       "    </tr>\n",
       "    <tr>\n",
       "      <th>58</th>\n",
       "      <td>test_sorted\\orange\\orange_94.jpg</td>\n",
       "      <td>3</td>\n",
       "      <td>3</td>\n",
       "      <td>False</td>\n",
       "    </tr>\n",
       "    <tr>\n",
       "      <th>59</th>\n",
       "      <td>test_sorted\\orange\\orange_95.jpg</td>\n",
       "      <td>3</td>\n",
       "      <td>3</td>\n",
       "      <td>False</td>\n",
       "    </tr>\n",
       "  </tbody>\n",
       "</table>\n",
       "</div>"
      ],
      "text/plain": [
       "                           filepaths  trueclass  predicted  \\\n",
       "0     test_sorted\\apple\\apple_77.jpg          0          0   \n",
       "1     test_sorted\\apple\\apple_78.jpg          0          3   \n",
       "2     test_sorted\\apple\\apple_79.jpg          0          1   \n",
       "3     test_sorted\\apple\\apple_80.jpg          0          0   \n",
       "4     test_sorted\\apple\\apple_81.jpg          0          0   \n",
       "5     test_sorted\\apple\\apple_82.jpg          0          0   \n",
       "6     test_sorted\\apple\\apple_83.jpg          0          0   \n",
       "7     test_sorted\\apple\\apple_84.jpg          0          3   \n",
       "8     test_sorted\\apple\\apple_85.jpg          0          0   \n",
       "9     test_sorted\\apple\\apple_86.jpg          0          0   \n",
       "10    test_sorted\\apple\\apple_87.jpg          0          0   \n",
       "11    test_sorted\\apple\\apple_88.jpg          0          3   \n",
       "12    test_sorted\\apple\\apple_89.jpg          0          0   \n",
       "13    test_sorted\\apple\\apple_90.jpg          0          0   \n",
       "14    test_sorted\\apple\\apple_91.jpg          0          3   \n",
       "15    test_sorted\\apple\\apple_92.jpg          0          3   \n",
       "16    test_sorted\\apple\\apple_93.jpg          0          0   \n",
       "17    test_sorted\\apple\\apple_94.jpg          0          3   \n",
       "18    test_sorted\\apple\\apple_95.jpg          0          3   \n",
       "19  test_sorted\\banana\\banana_77.jpg          1          0   \n",
       "20  test_sorted\\banana\\banana_78.jpg          1          0   \n",
       "21  test_sorted\\banana\\banana_79.jpg          1          0   \n",
       "22  test_sorted\\banana\\banana_80.jpg          1          0   \n",
       "23  test_sorted\\banana\\banana_81.jpg          1          3   \n",
       "24  test_sorted\\banana\\banana_82.jpg          1          0   \n",
       "25  test_sorted\\banana\\banana_83.jpg          1          1   \n",
       "26  test_sorted\\banana\\banana_84.jpg          1          0   \n",
       "27  test_sorted\\banana\\banana_85.jpg          1          0   \n",
       "28  test_sorted\\banana\\banana_86.jpg          1          3   \n",
       "29  test_sorted\\banana\\banana_87.jpg          1          3   \n",
       "30  test_sorted\\banana\\banana_88.jpg          1          1   \n",
       "31  test_sorted\\banana\\banana_89.jpg          1          3   \n",
       "32  test_sorted\\banana\\banana_90.jpg          1          0   \n",
       "33  test_sorted\\banana\\banana_91.jpg          1          0   \n",
       "34  test_sorted\\banana\\banana_92.jpg          1          0   \n",
       "35  test_sorted\\banana\\banana_93.jpg          1          1   \n",
       "36  test_sorted\\banana\\banana_94.jpg          1          0   \n",
       "37    test_sorted\\mixed\\mixed_21.jpg          2          3   \n",
       "38    test_sorted\\mixed\\mixed_22.jpg          2          0   \n",
       "39    test_sorted\\mixed\\mixed_23.jpg          2          3   \n",
       "40    test_sorted\\mixed\\mixed_24.jpg          2          0   \n",
       "41    test_sorted\\mixed\\mixed_25.jpg          2          0   \n",
       "42  test_sorted\\orange\\orange_77.jpg          3          3   \n",
       "43  test_sorted\\orange\\orange_78.jpg          3          3   \n",
       "44  test_sorted\\orange\\orange_79.jpg          3          3   \n",
       "45  test_sorted\\orange\\orange_80.jpg          3          3   \n",
       "46  test_sorted\\orange\\orange_81.jpg          3          3   \n",
       "47  test_sorted\\orange\\orange_82.jpg          3          3   \n",
       "48  test_sorted\\orange\\orange_83.jpg          3          3   \n",
       "49  test_sorted\\orange\\orange_84.jpg          3          3   \n",
       "50  test_sorted\\orange\\orange_85.jpg          3          3   \n",
       "51  test_sorted\\orange\\orange_86.jpg          3          0   \n",
       "52  test_sorted\\orange\\orange_87.jpg          3          3   \n",
       "53  test_sorted\\orange\\orange_89.jpg          3          1   \n",
       "54  test_sorted\\orange\\orange_90.jpg          3          3   \n",
       "55  test_sorted\\orange\\orange_91.jpg          3          3   \n",
       "56  test_sorted\\orange\\orange_92.jpg          3          3   \n",
       "57  test_sorted\\orange\\orange_93.jpg          3          3   \n",
       "58  test_sorted\\orange\\orange_94.jpg          3          3   \n",
       "59  test_sorted\\orange\\orange_95.jpg          3          3   \n",
       "\n",
       "    Correctly Predicted  \n",
       "0                 False  \n",
       "1                  True  \n",
       "2                  True  \n",
       "3                 False  \n",
       "4                 False  \n",
       "5                 False  \n",
       "6                 False  \n",
       "7                  True  \n",
       "8                 False  \n",
       "9                 False  \n",
       "10                False  \n",
       "11                 True  \n",
       "12                False  \n",
       "13                False  \n",
       "14                 True  \n",
       "15                 True  \n",
       "16                False  \n",
       "17                 True  \n",
       "18                 True  \n",
       "19                 True  \n",
       "20                 True  \n",
       "21                 True  \n",
       "22                 True  \n",
       "23                 True  \n",
       "24                 True  \n",
       "25                False  \n",
       "26                 True  \n",
       "27                 True  \n",
       "28                 True  \n",
       "29                 True  \n",
       "30                False  \n",
       "31                 True  \n",
       "32                 True  \n",
       "33                 True  \n",
       "34                 True  \n",
       "35                False  \n",
       "36                 True  \n",
       "37                 True  \n",
       "38                 True  \n",
       "39                 True  \n",
       "40                 True  \n",
       "41                 True  \n",
       "42                False  \n",
       "43                False  \n",
       "44                False  \n",
       "45                False  \n",
       "46                False  \n",
       "47                False  \n",
       "48                False  \n",
       "49                False  \n",
       "50                False  \n",
       "51                 True  \n",
       "52                False  \n",
       "53                 True  \n",
       "54                False  \n",
       "55                False  \n",
       "56                False  \n",
       "57                False  \n",
       "58                False  \n",
       "59                False  "
      ]
     },
     "execution_count": 94,
     "metadata": {},
     "output_type": "execute_result"
    }
   ],
   "source": [
    "predictions"
   ]
  },
  {
   "cell_type": "markdown",
   "metadata": {},
   "source": [
    "We can observe that the orange class is badly predicted"
   ]
  },
  {
   "cell_type": "markdown",
   "metadata": {},
   "source": [
    "### Sixth Model"
   ]
  },
  {
   "cell_type": "markdown",
   "metadata": {},
   "source": [
    "We will try to improve the model by increasing the dropout rates and also introduct more CNN layers. We will also reduce the learning rate to make the model make more refined adjustments"
   ]
  },
  {
   "cell_type": "code",
   "execution_count": 45,
   "metadata": {},
   "outputs": [],
   "source": [
    "# Adding batch normalisation to further reduce overfitting\n",
    "sixthmodel = Sequential()\n",
    "\n",
    "sixthmodel.add(Conv2D(32, (3, 3), activation='relu', padding='same', input_shape=(image_height, image_width, 3))) # Increased the kernel size of filter \n",
    "sixthmodel.add(BatchNormalization())\n",
    "sixthmodel.add(MaxPooling2D(pool_size=(2, 2)))\n",
    "sixthmodel.add(Dropout(0.2)) # Increased Dropout \n",
    "\n",
    "sixthmodel.add(Conv2D(64, (3, 3), activation='relu', padding='same')) # Increased the kernel size of filter\n",
    "sixthmodel.add(BatchNormalization())\n",
    "sixthmodel.add(MaxPooling2D(pool_size=(2, 2)))\n",
    "sixthmodel.add(Dropout(0.3)) # Increased Dropout \n",
    "\n",
    "sixthmodel.add(Conv2D(128, (3, 3), activation='relu', padding='same'))\n",
    "sixthmodel.add(BatchNormalization())\n",
    "sixthmodel.add(MaxPooling2D(pool_size=(2, 2)))\n",
    "sixthmodel.add(Dropout(0.4)) # Increased Dropout \n",
    "\n",
    "\n",
    "sixthmodel.add(Flatten())\n",
    "\n",
    "# FC layer\n",
    "sixthmodel.add(Dense(128, kernel_regularizer=l2(0.01), bias_regularizer=l2(0.01), activation='relu'))  # Increased the number of neurons\n",
    "sixthmodel.add(Dropout(0.5))\n",
    "\n",
    "sixthmodel.add(Dense(num_classes, activation='softmax'))\n",
    "\n",
    "# Compile the model\n",
    "sixthmodel.compile(optimizer=Adam(learning_rate=0.0001), # Lowering the learning rate\n",
    "                    loss='categorical_crossentropy',\n",
    "                    metrics=['accuracy'])"
   ]
  },
  {
   "cell_type": "code",
   "execution_count": null,
   "metadata": {},
   "outputs": [],
   "source": [
    "# Adding batch normalisation to further reduce overfitting\n",
    "sixthmodel = Sequential()\n",
    "\n",
    "sixthmodel.add(Conv2D(32, (3, 3), activation='relu', padding='same', input_shape=(image_height, image_width, 3))) # Increased the kernel size of filter \n",
    "sixthmodel.add(BatchNormalization())\n",
    "sixthmodel.add(MaxPooling2D(pool_size=(2, 2)))\n",
    "sixthmodel.add(Dropout(0.2)) # Increased Dropout \n",
    "\n",
    "sixthmodel.add(Conv2D(32, (3, 3), activation='relu', padding='same')) # Increased the kernel size of filter\n",
    "sixthmodel.add(BatchNormalization())\n",
    "sixthmodel.add(MaxPooling2D(pool_size=(2, 2)))\n",
    "sixthmodel.add(Dropout(0.3)) # Increased Dropout \n",
    "\n",
    "\n",
    "sixthmodel.add(Flatten())\n",
    "\n",
    "# FC layer\n",
    "sixthmodel.add(Dense(32, kernel_regularizer=l2(0.01), bias_regularizer=l2(0.01), activation='relu'))  # Increased the number of neurons\n",
    "sixthmodel.add(Dropout(0.5)) # Increased Dropout\n",
    "\n",
    "sixthmodel.add(Dense(num_classes, activation='softmax'))\n",
    "\n",
    "# Compile the model\n",
    "sixthmodel.compile(optimizer=Adam(learning_rate=0.0001), # Lowered learning rate\n",
    "                    loss='categorical_crossentropy',\n",
    "                    metrics=['accuracy'])"
   ]
  },
  {
   "cell_type": "code",
   "execution_count": 46,
   "metadata": {},
   "outputs": [
    {
     "name": "stdout",
     "output_type": "stream",
     "text": [
      "Found 193 images belonging to 4 classes.\n",
      "Found 47 images belonging to 4 classes.\n"
     ]
    }
   ],
   "source": [
    "# Inputing images using ImageDataGenerator without augmentation to get baseline\n",
    "datagen = ImageDataGenerator(\n",
    "    validation_split=0.2\n",
    ")\n",
    "\n",
    "\n",
    "trainDataSet = trainDataSet = datagen.flow_from_directory(\n",
    "    target_size=(image_height, image_width),\n",
    "    directory=\"train_sorted\",\n",
    "    subset = \"training\",\n",
    "    class_mode = \"categorical\",\n",
    "    shuffle = True,\n",
    "    batch_size = 8 # Reduce batch size\n",
    ")\n",
    "\n",
    "validDataSet = validDataSet = datagen.flow_from_directory(\n",
    "    target_size=(image_height, image_width),\n",
    "    directory=\"train_sorted\",\n",
    "    subset = \"validation\",\n",
    "    class_mode = \"categorical\",\n",
    "    shuffle = True,\n",
    "    batch_size = 8 # Reduce batch size\n",
    ")"
   ]
  },
  {
   "cell_type": "code",
   "execution_count": 47,
   "metadata": {},
   "outputs": [
    {
     "name": "stdout",
     "output_type": "stream",
     "text": [
      "Epoch 1/20\n",
      "24/24 [==============================] - 2s 71ms/step - loss: 2.7935 - accuracy: 0.4324 - val_loss: 1.9475 - val_accuracy: 0.4000\n",
      "Epoch 2/20\n",
      "24/24 [==============================] - 2s 62ms/step - loss: 1.6601 - accuracy: 0.5297 - val_loss: 1.5067 - val_accuracy: 0.6500\n",
      "Epoch 3/20\n",
      "24/24 [==============================] - 2s 66ms/step - loss: 1.4736 - accuracy: 0.6541 - val_loss: 1.4282 - val_accuracy: 0.6250\n",
      "Epoch 4/20\n",
      "24/24 [==============================] - 2s 66ms/step - loss: 1.4630 - accuracy: 0.6595 - val_loss: 1.2117 - val_accuracy: 0.8500\n",
      "Epoch 5/20\n",
      "24/24 [==============================] - 2s 66ms/step - loss: 1.2702 - accuracy: 0.7622 - val_loss: 1.1122 - val_accuracy: 0.8250\n",
      "Epoch 6/20\n",
      "24/24 [==============================] - 2s 63ms/step - loss: 1.2627 - accuracy: 0.7405 - val_loss: 1.2504 - val_accuracy: 0.8000\n",
      "Epoch 7/20\n",
      "24/24 [==============================] - 2s 64ms/step - loss: 1.1310 - accuracy: 0.7865 - val_loss: 1.1532 - val_accuracy: 0.8000\n",
      "Epoch 8/20\n",
      "24/24 [==============================] - 2s 65ms/step - loss: 1.1472 - accuracy: 0.7892 - val_loss: 0.9516 - val_accuracy: 0.9000\n",
      "Epoch 9/20\n",
      "24/24 [==============================] - 2s 65ms/step - loss: 1.1386 - accuracy: 0.8270 - val_loss: 1.1903 - val_accuracy: 0.8250\n",
      "Epoch 10/20\n",
      "24/24 [==============================] - 2s 66ms/step - loss: 1.0872 - accuracy: 0.7838 - val_loss: 1.0989 - val_accuracy: 0.7500\n",
      "Epoch 11/20\n",
      "24/24 [==============================] - 2s 64ms/step - loss: 1.0950 - accuracy: 0.8108 - val_loss: 1.0903 - val_accuracy: 0.8500\n",
      "Epoch 12/20\n",
      "24/24 [==============================] - 1s 61ms/step - loss: 1.0965 - accuracy: 0.8216 - val_loss: 1.0392 - val_accuracy: 0.8500\n",
      "Epoch 13/20\n",
      "24/24 [==============================] - 2s 67ms/step - loss: 1.0301 - accuracy: 0.8378 - val_loss: 0.9512 - val_accuracy: 0.9250\n",
      "Epoch 14/20\n",
      "24/24 [==============================] - 1s 60ms/step - loss: 0.9133 - accuracy: 0.8973 - val_loss: 1.0744 - val_accuracy: 0.8500\n",
      "Epoch 15/20\n",
      "24/24 [==============================] - 2s 66ms/step - loss: 0.9109 - accuracy: 0.8757 - val_loss: 0.9997 - val_accuracy: 0.8750\n",
      "Epoch 16/20\n",
      "24/24 [==============================] - 2s 60ms/step - loss: 0.9713 - accuracy: 0.8541 - val_loss: 1.0075 - val_accuracy: 0.8750\n",
      "Epoch 17/20\n",
      "24/24 [==============================] - 2s 65ms/step - loss: 0.9008 - accuracy: 0.8865 - val_loss: 1.1129 - val_accuracy: 0.8750\n",
      "Epoch 18/20\n",
      "24/24 [==============================] - 2s 68ms/step - loss: 0.8646 - accuracy: 0.8906 - val_loss: 1.2557 - val_accuracy: 0.8250\n",
      "Epoch 19/20\n",
      "24/24 [==============================] - 2s 63ms/step - loss: 0.9174 - accuracy: 0.8595 - val_loss: 1.1204 - val_accuracy: 0.8500\n",
      "Epoch 20/20\n",
      "24/24 [==============================] - 2s 67ms/step - loss: 0.8637 - accuracy: 0.8703 - val_loss: 1.1462 - val_accuracy: 0.8750\n"
     ]
    }
   ],
   "source": [
    "num_epochs = 20\n",
    "with tf.device('/GPU:0'):\n",
    "    history = sixthmodel.fit(\n",
    "        trainDataSet,\n",
    "        steps_per_epoch = trainDataSet.samples // trainDataSet.batch_size,\n",
    "        epochs = num_epochs,\n",
    "        validation_data = validDataSet,\n",
    "        validation_steps = validDataSet.samples // validDataSet.batch_size,\n",
    "        verbose = 1\n",
    "    )"
   ]
  },
  {
   "cell_type": "code",
   "execution_count": 50,
   "metadata": {},
   "outputs": [
    {
     "name": "stdout",
     "output_type": "stream",
     "text": [
      "24/24 [==============================] - 1s 52ms/step - loss: 0.6327 - accuracy: 0.9740\n",
      "5/5 [==============================] - 0s 50ms/step - loss: 1.0662 - accuracy: 0.8500\n",
      "60/60 [==============================] - 0s 8ms/step - loss: 8.2129 - accuracy: 0.3167\n"
     ]
    }
   ],
   "source": [
    "sixthmodel_trainscore = sixthmodel.evaluate(trainDataSet,steps=trainDataSet.samples // trainDataSet.batch_size)\n",
    "sixthmodel_validationscore = sixthmodel.evaluate(validDataSet,steps=validDataSet.samples // validDataSet.batch_size)\n",
    "sixthmodel_testscore = sixthmodel.evaluate(test_generator,steps=test_generator.samples // test_generator.batch_size)"
   ]
  },
  {
   "cell_type": "code",
   "execution_count": 51,
   "metadata": {},
   "outputs": [
    {
     "name": "stdout",
     "output_type": "stream",
     "text": [
      "The base model accuracy score for the train:  0.97\n",
      "The base model accuracy score for the validation:  0.85\n",
      "======================================================\n",
      "The base model accuracy score for the test:  0.32\n"
     ]
    }
   ],
   "source": [
    "print(\"The base model accuracy score for the train: \",round(sixthmodel_trainscore[1],2))\n",
    "print(\"The base model accuracy score for the validation: \",round(sixthmodel_validationscore[1],2))\n",
    "print(\"======================================================\")\n",
    "print(\"The base model accuracy score for the test: \",round(sixthmodel_testscore[1],2))"
   ]
  },
  {
   "cell_type": "code",
   "execution_count": null,
   "metadata": {},
   "outputs": [],
   "source": []
  }
 ],
 "metadata": {
  "accelerator": "GPU",
  "colab": {
   "authorship_tag": "ABX9TyO7CHMy1P+OGJQusiMjCWiR",
   "gpuType": "V100",
   "provenance": []
  },
  "kernelspec": {
   "display_name": "Python 3 (ipykernel)",
   "language": "python",
   "name": "python3"
  },
  "language_info": {
   "codemirror_mode": {
    "name": "ipython",
    "version": 3
   },
   "file_extension": ".py",
   "mimetype": "text/x-python",
   "name": "python",
   "nbconvert_exporter": "python",
   "pygments_lexer": "ipython3",
   "version": "3.10.11"
  }
 },
 "nbformat": 4,
 "nbformat_minor": 4
}
